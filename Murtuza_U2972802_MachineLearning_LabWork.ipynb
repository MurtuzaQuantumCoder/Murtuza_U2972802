{
  "nbformat": 4,
  "nbformat_minor": 0,
  "metadata": {
    "colab": {
      "provenance": [],
      "authorship_tag": "ABX9TyNeZy1kztvSbADIRE1TYODW",
      "include_colab_link": true
    },
    "kernelspec": {
      "name": "python3",
      "display_name": "Python 3"
    },
    "language_info": {
      "name": "python"
    }
  },
  "cells": [
    {
      "cell_type": "markdown",
      "metadata": {
        "id": "view-in-github",
        "colab_type": "text"
      },
      "source": [
        "<a href=\"https://colab.research.google.com/github/MurtuzaQuantumCoder/Murtuza_U2972802/blob/main/Murtuza_U2972802_MachineLearning_LabWork.ipynb\" target=\"_parent\"><img src=\"https://colab.research.google.com/assets/colab-badge.svg\" alt=\"Open In Colab\"/></a>"
      ]
    },
    {
      "cell_type": "code",
      "execution_count": 1,
      "metadata": {
        "colab": {
          "base_uri": "https://localhost:8080/"
        },
        "id": "wfdGr3NJuOqK",
        "outputId": "0fb449b3-dd3a-4aa2-f222-e1a7ac8f27e5"
      },
      "outputs": [
        {
          "output_type": "stream",
          "name": "stdout",
          "text": [
            "Requirement already satisfied: pyspark in /usr/local/lib/python3.11/dist-packages (3.5.1)\n",
            "Requirement already satisfied: py4j==0.10.9.7 in /usr/local/lib/python3.11/dist-packages (from pyspark) (0.10.9.7)\n"
          ]
        }
      ],
      "source": [
        "!pip install pyspark"
      ]
    },
    {
      "cell_type": "code",
      "metadata": {
        "colab": {
          "base_uri": "https://localhost:8080/"
        },
        "id": "7b73d214",
        "outputId": "74fe94cf-c261-41b3-989b-652e100c07e3"
      },
      "source": [
        "!pip install nltk"
      ],
      "execution_count": 2,
      "outputs": [
        {
          "output_type": "stream",
          "name": "stdout",
          "text": [
            "Requirement already satisfied: nltk in /usr/local/lib/python3.11/dist-packages (3.9.1)\n",
            "Requirement already satisfied: click in /usr/local/lib/python3.11/dist-packages (from nltk) (8.2.1)\n",
            "Requirement already satisfied: joblib in /usr/local/lib/python3.11/dist-packages (from nltk) (1.5.1)\n",
            "Requirement already satisfied: regex>=2021.8.3 in /usr/local/lib/python3.11/dist-packages (from nltk) (2024.11.6)\n",
            "Requirement already satisfied: tqdm in /usr/local/lib/python3.11/dist-packages (from nltk) (4.67.1)\n"
          ]
        }
      ]
    },
    {
      "cell_type": "code",
      "source": [
        "import nltk\n",
        "nltk.download('wordnet')\n",
        "nltk.download('omw-1.4')"
      ],
      "metadata": {
        "colab": {
          "base_uri": "https://localhost:8080/"
        },
        "id": "eAglNC7PwJ7R",
        "outputId": "c1f3b54e-eb5c-474d-d44e-9e613a5b32a0"
      },
      "execution_count": 3,
      "outputs": [
        {
          "output_type": "stream",
          "name": "stderr",
          "text": [
            "[nltk_data] Downloading package wordnet to /root/nltk_data...\n",
            "[nltk_data] Downloading package omw-1.4 to /root/nltk_data...\n"
          ]
        },
        {
          "output_type": "execute_result",
          "data": {
            "text/plain": [
              "True"
            ]
          },
          "metadata": {},
          "execution_count": 3
        }
      ]
    },
    {
      "cell_type": "code",
      "source": [
        "from pyspark.sql import SparkSession\n",
        "from pyspark.sql.functions import col\n",
        "from pyspark.ml.feature import Tokenizer, StopWordsRemover, HashingTF, IDF\n",
        "from pyspark.ml.classification import LogisticRegression\n",
        "from pyspark.ml import Pipeline\n",
        "from pyspark.ml.feature import StringIndexer\n",
        "from pyspark.ml.evaluation import MulticlassClassificationEvaluator"
      ],
      "metadata": {
        "id": "A83gM5CNwTnY"
      },
      "execution_count": 4,
      "outputs": []
    },
    {
      "cell_type": "code",
      "metadata": {
        "id": "c3b34241"
      },
      "source": [
        "from pyspark.sql.functions import udf\n",
        "from pyspark.sql.types import ArrayType, StringType\n",
        "from nltk.stem import PorterStemmer, WordNetLemmatizer"
      ],
      "execution_count": 5,
      "outputs": []
    },
    {
      "cell_type": "code",
      "metadata": {
        "id": "d6937fab"
      },
      "source": [
        "stemmer = PorterStemmer()\n",
        "lemmatizer = WordNetLemmatizer()"
      ],
      "execution_count": 6,
      "outputs": []
    },
    {
      "cell_type": "code",
      "metadata": {
        "id": "0d6f02c3"
      },
      "source": [
        "def stem_words(words):\n",
        "    return [stemmer.stem(word) for word in words]"
      ],
      "execution_count": 7,
      "outputs": []
    },
    {
      "cell_type": "code",
      "metadata": {
        "id": "38997ac0"
      },
      "source": [
        "def lemmatize_words(words):\n",
        "    return [lemmatizer.lemmatize(word) for word in words]"
      ],
      "execution_count": 8,
      "outputs": []
    },
    {
      "cell_type": "code",
      "metadata": {
        "id": "81e53718"
      },
      "source": [
        "spark = SparkSession.builder.appName(\"DocumentClassificationTFIDF\").getOrCreate()"
      ],
      "execution_count": 9,
      "outputs": []
    },
    {
      "cell_type": "code",
      "metadata": {
        "colab": {
          "base_uri": "https://localhost:8080/",
          "height": 34
        },
        "id": "7d0dc339",
        "outputId": "573f9353-ccf6-4641-dfbb-19648d84ad45"
      },
      "source": [
        "data = [(0,\"Cloud computing is becoming increasingly important for businesses\",\"Technology\"),\n",
        "(1, \"Basketball players are preparing for the next tournament\", \"Sports\"),\n",
        "(2,\"Machine learning has revolutionized the way data is processed\",\"Technology\"),\n",
        "(3, \"Political campaigns are gearing up for the upcoming elections\",\"Politics\"),\n",
        "(4, \"The football team has been training hard for the upcoming season\", \"Sports\"),\n",
        "(5,\"International relations are being discussed in diplomatic meetings\",\"Politics\"),\n",
        "(6, \"The president addressed the nation in a live broadcast\", \"Politics\"),\n",
        "(7, \"Tennis players are practicing for the grand slam matches\", \"Sports\"),\n",
        "(8,\"Machine learning has revolutionized the way data is processed\",\"Technology\"),\n",
        "(9, \"Stock trading has become a popular way to build wealth\", \"Finance\"),\n",
        "(10, \"5G technology is expected to significantly improve communication speeds\",\"Technology\"),\n",
        "(11,\"Political campaigns are gearing up for the upcoming elections\",\"Politics\"),\n",
        "(12,\n",
        " \"Machine learning has revolutionized the way data is processed\",\n",
        " \"Technology\"),\n",
        "(13,\n",
        " \"Investors are looking for high-yield bonds in the current market\",\n",
        " \"Finance\"),\n",
        "(14,\n",
        " \"Quantum computing holds promise for solving complex problems\",\n",
        " \"Technology\"),\n",
        "(15,\n",
        " \"Cloud computing is becoming increasingly important for businesses\",\n",
        " \"Technology\"),\n",
        "(16, \"The Formula 1 race track is set to host the next grand prix\", \"Sports\"),\n",
        "(17,\n",
        " \"Financial experts are advising on diversifying investment portfolios\",\n",
        " \"Finance\"),\n",
        "(18, \"Stock trading has become a popular way to build wealth\", \"Finance\"),\n",
        "(19, \"Stock trading has become a popular way to build wealth\", \"Finance\"),\n",
        "(20,\n",
        " \"International relations are being discussed in diplomatic meetings\",\n",
        " \"Politics\"),\n",
        "(21, \"The Formula 1 race track is set to host the next grand prix\", \"Sports\"),\n",
        "(22,\n",
        " \"Political campaigns are gearing up for the upcoming elections\",\n",
        " \"Politics\")\n",
        "]\n",
        "\n",
        "columns = [\"id\", \"text\", \"category\"]\n",
        "df = spark.createDataFrame(data, columns)\n",
        "display(df.head())"
      ],
      "execution_count": 18,
      "outputs": [
        {
          "output_type": "display_data",
          "data": {
            "text/plain": [
              "Row(id=0, text='Cloud computing is becoming increasingly important for businesses', category='Technology')"
            ]
          },
          "metadata": {}
        }
      ]
    },
    {
      "cell_type": "code",
      "metadata": {
        "id": "76fd8feb"
      },
      "source": [
        "tokenizer = Tokenizer(inputCol=\"text\", outputCol=\"words\")\n",
        "df = tokenizer.transform(df)"
      ],
      "execution_count": 11,
      "outputs": []
    },
    {
      "cell_type": "code",
      "metadata": {
        "id": "e26902c2"
      },
      "source": [
        "remover = StopWordsRemover(inputCol=\"words\", outputCol=\"filtered_words\")\n",
        "df = remover.transform(df)"
      ],
      "execution_count": 12,
      "outputs": []
    },
    {
      "cell_type": "code",
      "metadata": {
        "id": "107a7c7b"
      },
      "source": [
        "stem_udf = udf(stem_words, ArrayType(StringType()))"
      ],
      "execution_count": 13,
      "outputs": []
    },
    {
      "cell_type": "code",
      "metadata": {
        "id": "1e99d530"
      },
      "source": [
        "df = df.withColumn(\"stemmed_words\", stem_udf(col(\"filtered_words\")))"
      ],
      "execution_count": 14,
      "outputs": []
    },
    {
      "cell_type": "code",
      "metadata": {
        "id": "b694d718"
      },
      "source": [
        "lemma_udf = udf(lemmatize_words, ArrayType(StringType()))"
      ],
      "execution_count": 15,
      "outputs": []
    },
    {
      "cell_type": "code",
      "metadata": {
        "id": "28a58a64"
      },
      "source": [
        "df = df.withColumn(\"lemmatized_words\", lemma_udf(col(\"filtered_words\")))"
      ],
      "execution_count": 16,
      "outputs": []
    },
    {
      "cell_type": "code",
      "metadata": {
        "colab": {
          "base_uri": "https://localhost:8080/",
          "height": 321
        },
        "id": "04b95665",
        "outputId": "6bf31299-d941-48ce-b358-41164ea063a3"
      },
      "source": [
        "df.select(\"text\",\"filtered_words\",\"stemmed_words\",\"lemmatized_words\").show(truncate=False)"
      ],
      "execution_count": 20,
      "outputs": [
        {
          "output_type": "error",
          "ename": "AnalysisException",
          "evalue": "[UNRESOLVED_COLUMN.WITH_SUGGESTION] A column or function parameter with name `filtered_words` cannot be resolved. Did you mean one of the following? [`category`, `id`, `text`].;\n'Project [text#70, 'filtered_words, 'stemmed_words, 'lemmatized_words]\n+- LogicalRDD [id#69L, text#70, category#71], false\n",
          "traceback": [
            "\u001b[0;31m---------------------------------------------------------------------------\u001b[0m",
            "\u001b[0;31mAnalysisException\u001b[0m                         Traceback (most recent call last)",
            "\u001b[0;32m/tmp/ipython-input-20-1507431787.py\u001b[0m in \u001b[0;36m<cell line: 0>\u001b[0;34m()\u001b[0m\n\u001b[0;32m----> 1\u001b[0;31m \u001b[0mdf\u001b[0m\u001b[0;34m.\u001b[0m\u001b[0mselect\u001b[0m\u001b[0;34m(\u001b[0m\u001b[0;34m\"text\"\u001b[0m\u001b[0;34m,\u001b[0m\u001b[0;34m\"filtered_words\"\u001b[0m\u001b[0;34m,\u001b[0m\u001b[0;34m\"stemmed_words\"\u001b[0m\u001b[0;34m,\u001b[0m\u001b[0;34m\"lemmatized_words\"\u001b[0m\u001b[0;34m)\u001b[0m\u001b[0;34m.\u001b[0m\u001b[0mshow\u001b[0m\u001b[0;34m(\u001b[0m\u001b[0mtruncate\u001b[0m\u001b[0;34m=\u001b[0m\u001b[0;32mFalse\u001b[0m\u001b[0;34m)\u001b[0m\u001b[0;34m\u001b[0m\u001b[0;34m\u001b[0m\u001b[0m\n\u001b[0m",
            "\u001b[0;32m/usr/local/lib/python3.11/dist-packages/pyspark/sql/dataframe.py\u001b[0m in \u001b[0;36mselect\u001b[0;34m(self, *cols)\u001b[0m\n\u001b[1;32m   3225\u001b[0m         \u001b[0;34m+\u001b[0m\u001b[0;34m-\u001b[0m\u001b[0;34m-\u001b[0m\u001b[0;34m-\u001b[0m\u001b[0;34m-\u001b[0m\u001b[0;34m-\u001b[0m\u001b[0;34m+\u001b[0m\u001b[0;34m-\u001b[0m\u001b[0;34m-\u001b[0m\u001b[0;34m-\u001b[0m\u001b[0;34m+\u001b[0m\u001b[0;34m\u001b[0m\u001b[0;34m\u001b[0m\u001b[0m\n\u001b[1;32m   3226\u001b[0m         \"\"\"\n\u001b[0;32m-> 3227\u001b[0;31m         \u001b[0mjdf\u001b[0m \u001b[0;34m=\u001b[0m \u001b[0mself\u001b[0m\u001b[0;34m.\u001b[0m\u001b[0m_jdf\u001b[0m\u001b[0;34m.\u001b[0m\u001b[0mselect\u001b[0m\u001b[0;34m(\u001b[0m\u001b[0mself\u001b[0m\u001b[0;34m.\u001b[0m\u001b[0m_jcols\u001b[0m\u001b[0;34m(\u001b[0m\u001b[0;34m*\u001b[0m\u001b[0mcols\u001b[0m\u001b[0;34m)\u001b[0m\u001b[0;34m)\u001b[0m\u001b[0;34m\u001b[0m\u001b[0;34m\u001b[0m\u001b[0m\n\u001b[0m\u001b[1;32m   3228\u001b[0m         \u001b[0;32mreturn\u001b[0m \u001b[0mDataFrame\u001b[0m\u001b[0;34m(\u001b[0m\u001b[0mjdf\u001b[0m\u001b[0;34m,\u001b[0m \u001b[0mself\u001b[0m\u001b[0;34m.\u001b[0m\u001b[0msparkSession\u001b[0m\u001b[0;34m)\u001b[0m\u001b[0;34m\u001b[0m\u001b[0;34m\u001b[0m\u001b[0m\n\u001b[1;32m   3229\u001b[0m \u001b[0;34m\u001b[0m\u001b[0m\n",
            "\u001b[0;32m/usr/local/lib/python3.11/dist-packages/py4j/java_gateway.py\u001b[0m in \u001b[0;36m__call__\u001b[0;34m(self, *args)\u001b[0m\n\u001b[1;32m   1320\u001b[0m \u001b[0;34m\u001b[0m\u001b[0m\n\u001b[1;32m   1321\u001b[0m         \u001b[0manswer\u001b[0m \u001b[0;34m=\u001b[0m \u001b[0mself\u001b[0m\u001b[0;34m.\u001b[0m\u001b[0mgateway_client\u001b[0m\u001b[0;34m.\u001b[0m\u001b[0msend_command\u001b[0m\u001b[0;34m(\u001b[0m\u001b[0mcommand\u001b[0m\u001b[0;34m)\u001b[0m\u001b[0;34m\u001b[0m\u001b[0;34m\u001b[0m\u001b[0m\n\u001b[0;32m-> 1322\u001b[0;31m         return_value = get_return_value(\n\u001b[0m\u001b[1;32m   1323\u001b[0m             answer, self.gateway_client, self.target_id, self.name)\n\u001b[1;32m   1324\u001b[0m \u001b[0;34m\u001b[0m\u001b[0m\n",
            "\u001b[0;32m/usr/local/lib/python3.11/dist-packages/pyspark/errors/exceptions/captured.py\u001b[0m in \u001b[0;36mdeco\u001b[0;34m(*a, **kw)\u001b[0m\n\u001b[1;32m    183\u001b[0m                 \u001b[0;31m# Hide where the exception came from that shows a non-Pythonic\u001b[0m\u001b[0;34m\u001b[0m\u001b[0;34m\u001b[0m\u001b[0m\n\u001b[1;32m    184\u001b[0m                 \u001b[0;31m# JVM exception message.\u001b[0m\u001b[0;34m\u001b[0m\u001b[0;34m\u001b[0m\u001b[0m\n\u001b[0;32m--> 185\u001b[0;31m                 \u001b[0;32mraise\u001b[0m \u001b[0mconverted\u001b[0m \u001b[0;32mfrom\u001b[0m \u001b[0;32mNone\u001b[0m\u001b[0;34m\u001b[0m\u001b[0;34m\u001b[0m\u001b[0m\n\u001b[0m\u001b[1;32m    186\u001b[0m             \u001b[0;32melse\u001b[0m\u001b[0;34m:\u001b[0m\u001b[0;34m\u001b[0m\u001b[0;34m\u001b[0m\u001b[0m\n\u001b[1;32m    187\u001b[0m                 \u001b[0;32mraise\u001b[0m\u001b[0;34m\u001b[0m\u001b[0;34m\u001b[0m\u001b[0m\n",
            "\u001b[0;31mAnalysisException\u001b[0m: [UNRESOLVED_COLUMN.WITH_SUGGESTION] A column or function parameter with name `filtered_words` cannot be resolved. Did you mean one of the following? [`category`, `id`, `text`].;\n'Project [text#70, 'filtered_words, 'stemmed_words, 'lemmatized_words]\n+- LogicalRDD [id#69L, text#70, category#71], false\n"
          ]
        }
      ]
    },
    {
      "cell_type": "code",
      "metadata": {
        "colab": {
          "base_uri": "https://localhost:8080/",
          "height": 321
        },
        "id": "f9100f88",
        "outputId": "aa54ba48-313c-40a2-d4d8-2d53e217ada4"
      },
      "source": [
        "df.select(\"text\", \"filtered_words\", \"stemmed_words\", \"lemmatized_words\").show(truncate=False)"
      ],
      "execution_count": 21,
      "outputs": [
        {
          "output_type": "error",
          "ename": "AnalysisException",
          "evalue": "[UNRESOLVED_COLUMN.WITH_SUGGESTION] A column or function parameter with name `filtered_words` cannot be resolved. Did you mean one of the following? [`category`, `id`, `text`].;\n'Project [text#70, 'filtered_words, 'stemmed_words, 'lemmatized_words]\n+- LogicalRDD [id#69L, text#70, category#71], false\n",
          "traceback": [
            "\u001b[0;31m---------------------------------------------------------------------------\u001b[0m",
            "\u001b[0;31mAnalysisException\u001b[0m                         Traceback (most recent call last)",
            "\u001b[0;32m/tmp/ipython-input-21-687240347.py\u001b[0m in \u001b[0;36m<cell line: 0>\u001b[0;34m()\u001b[0m\n\u001b[0;32m----> 1\u001b[0;31m \u001b[0mdf\u001b[0m\u001b[0;34m.\u001b[0m\u001b[0mselect\u001b[0m\u001b[0;34m(\u001b[0m\u001b[0;34m\"text\"\u001b[0m\u001b[0;34m,\u001b[0m \u001b[0;34m\"filtered_words\"\u001b[0m\u001b[0;34m,\u001b[0m \u001b[0;34m\"stemmed_words\"\u001b[0m\u001b[0;34m,\u001b[0m \u001b[0;34m\"lemmatized_words\"\u001b[0m\u001b[0;34m)\u001b[0m\u001b[0;34m.\u001b[0m\u001b[0mshow\u001b[0m\u001b[0;34m(\u001b[0m\u001b[0mtruncate\u001b[0m\u001b[0;34m=\u001b[0m\u001b[0;32mFalse\u001b[0m\u001b[0;34m)\u001b[0m\u001b[0;34m\u001b[0m\u001b[0;34m\u001b[0m\u001b[0m\n\u001b[0m",
            "\u001b[0;32m/usr/local/lib/python3.11/dist-packages/pyspark/sql/dataframe.py\u001b[0m in \u001b[0;36mselect\u001b[0;34m(self, *cols)\u001b[0m\n\u001b[1;32m   3225\u001b[0m         \u001b[0;34m+\u001b[0m\u001b[0;34m-\u001b[0m\u001b[0;34m-\u001b[0m\u001b[0;34m-\u001b[0m\u001b[0;34m-\u001b[0m\u001b[0;34m-\u001b[0m\u001b[0;34m+\u001b[0m\u001b[0;34m-\u001b[0m\u001b[0;34m-\u001b[0m\u001b[0;34m-\u001b[0m\u001b[0;34m+\u001b[0m\u001b[0;34m\u001b[0m\u001b[0;34m\u001b[0m\u001b[0m\n\u001b[1;32m   3226\u001b[0m         \"\"\"\n\u001b[0;32m-> 3227\u001b[0;31m         \u001b[0mjdf\u001b[0m \u001b[0;34m=\u001b[0m \u001b[0mself\u001b[0m\u001b[0;34m.\u001b[0m\u001b[0m_jdf\u001b[0m\u001b[0;34m.\u001b[0m\u001b[0mselect\u001b[0m\u001b[0;34m(\u001b[0m\u001b[0mself\u001b[0m\u001b[0;34m.\u001b[0m\u001b[0m_jcols\u001b[0m\u001b[0;34m(\u001b[0m\u001b[0;34m*\u001b[0m\u001b[0mcols\u001b[0m\u001b[0;34m)\u001b[0m\u001b[0;34m)\u001b[0m\u001b[0;34m\u001b[0m\u001b[0;34m\u001b[0m\u001b[0m\n\u001b[0m\u001b[1;32m   3228\u001b[0m         \u001b[0;32mreturn\u001b[0m \u001b[0mDataFrame\u001b[0m\u001b[0;34m(\u001b[0m\u001b[0mjdf\u001b[0m\u001b[0;34m,\u001b[0m \u001b[0mself\u001b[0m\u001b[0;34m.\u001b[0m\u001b[0msparkSession\u001b[0m\u001b[0;34m)\u001b[0m\u001b[0;34m\u001b[0m\u001b[0;34m\u001b[0m\u001b[0m\n\u001b[1;32m   3229\u001b[0m \u001b[0;34m\u001b[0m\u001b[0m\n",
            "\u001b[0;32m/usr/local/lib/python3.11/dist-packages/py4j/java_gateway.py\u001b[0m in \u001b[0;36m__call__\u001b[0;34m(self, *args)\u001b[0m\n\u001b[1;32m   1320\u001b[0m \u001b[0;34m\u001b[0m\u001b[0m\n\u001b[1;32m   1321\u001b[0m         \u001b[0manswer\u001b[0m \u001b[0;34m=\u001b[0m \u001b[0mself\u001b[0m\u001b[0;34m.\u001b[0m\u001b[0mgateway_client\u001b[0m\u001b[0;34m.\u001b[0m\u001b[0msend_command\u001b[0m\u001b[0;34m(\u001b[0m\u001b[0mcommand\u001b[0m\u001b[0;34m)\u001b[0m\u001b[0;34m\u001b[0m\u001b[0;34m\u001b[0m\u001b[0m\n\u001b[0;32m-> 1322\u001b[0;31m         return_value = get_return_value(\n\u001b[0m\u001b[1;32m   1323\u001b[0m             answer, self.gateway_client, self.target_id, self.name)\n\u001b[1;32m   1324\u001b[0m \u001b[0;34m\u001b[0m\u001b[0m\n",
            "\u001b[0;32m/usr/local/lib/python3.11/dist-packages/pyspark/errors/exceptions/captured.py\u001b[0m in \u001b[0;36mdeco\u001b[0;34m(*a, **kw)\u001b[0m\n\u001b[1;32m    183\u001b[0m                 \u001b[0;31m# Hide where the exception came from that shows a non-Pythonic\u001b[0m\u001b[0;34m\u001b[0m\u001b[0;34m\u001b[0m\u001b[0m\n\u001b[1;32m    184\u001b[0m                 \u001b[0;31m# JVM exception message.\u001b[0m\u001b[0;34m\u001b[0m\u001b[0;34m\u001b[0m\u001b[0m\n\u001b[0;32m--> 185\u001b[0;31m                 \u001b[0;32mraise\u001b[0m \u001b[0mconverted\u001b[0m \u001b[0;32mfrom\u001b[0m \u001b[0;32mNone\u001b[0m\u001b[0;34m\u001b[0m\u001b[0;34m\u001b[0m\u001b[0m\n\u001b[0m\u001b[1;32m    186\u001b[0m             \u001b[0;32melse\u001b[0m\u001b[0;34m:\u001b[0m\u001b[0;34m\u001b[0m\u001b[0;34m\u001b[0m\u001b[0m\n\u001b[1;32m    187\u001b[0m                 \u001b[0;32mraise\u001b[0m\u001b[0;34m\u001b[0m\u001b[0;34m\u001b[0m\u001b[0m\n",
            "\u001b[0;31mAnalysisException\u001b[0m: [UNRESOLVED_COLUMN.WITH_SUGGESTION] A column or function parameter with name `filtered_words` cannot be resolved. Did you mean one of the following? [`category`, `id`, `text`].;\n'Project [text#70, 'filtered_words, 'stemmed_words, 'lemmatized_words]\n+- LogicalRDD [id#69L, text#70, category#71], false\n"
          ]
        }
      ]
    },
    {
      "cell_type": "markdown",
      "metadata": {
        "id": "13f5de96"
      },
      "source": [
        "# Task\n",
        "The user wants to preprocess text data in a Spark DataFrame by tokenizing, removing stop words, stemming, and lemmatizing. The user has provided the code for these steps and wants to understand and fix an error in the provided code. The user also wants to display the results of the preprocessing steps."
      ]
    },
    {
      "cell_type": "markdown",
      "metadata": {
        "id": "21c30487"
      },
      "source": [
        "## Re-run tokenization\n",
        "\n",
        "### Subtask:\n",
        "Re-execute the tokenization step to create the 'words' column.\n"
      ]
    },
    {
      "cell_type": "markdown",
      "metadata": {
        "id": "35d949e1"
      },
      "source": [
        "**Reasoning**:\n",
        "Re-executing the tokenization step is necessary to ensure the 'words' column is present before subsequent transformations.\n",
        "\n"
      ]
    },
    {
      "cell_type": "code",
      "metadata": {
        "id": "2ea37ce4"
      },
      "source": [
        "tokenizer = Tokenizer(inputCol=\"text\", outputCol=\"words\")\n",
        "df = tokenizer.transform(df)"
      ],
      "execution_count": 22,
      "outputs": []
    },
    {
      "cell_type": "markdown",
      "metadata": {
        "id": "387c3c53"
      },
      "source": [
        "**Reasoning**:\n",
        "The previous step successfully re-created the 'words' column. Now, re-execute the stop words removal step to create the 'filtered_words' column, which was missing based on the error message.\n",
        "\n"
      ]
    },
    {
      "cell_type": "code",
      "metadata": {
        "id": "81b89620"
      },
      "source": [
        "remover = StopWordsRemover(inputCol=\"words\", outputCol=\"filtered_words\")\n",
        "df = remover.transform(df)"
      ],
      "execution_count": 23,
      "outputs": []
    },
    {
      "cell_type": "markdown",
      "metadata": {
        "id": "b0b5b259"
      },
      "source": [
        "**Reasoning**:\n",
        "Re-executing the stemming step is necessary to ensure the 'stemmed_words' column is present.\n",
        "\n"
      ]
    },
    {
      "cell_type": "code",
      "metadata": {
        "id": "0218fa0b"
      },
      "source": [
        "df = df.withColumn(\"stemmed_words\", stem_udf(col(\"filtered_words\")))"
      ],
      "execution_count": 24,
      "outputs": []
    },
    {
      "cell_type": "markdown",
      "metadata": {
        "id": "72fa5c09"
      },
      "source": [
        "**Reasoning**:\n",
        "Re-executing the lemmatization step is necessary to ensure the 'lemmatized_words' column is present.\n",
        "\n"
      ]
    },
    {
      "cell_type": "code",
      "metadata": {
        "id": "48bfa020"
      },
      "source": [
        "df = df.withColumn(\"lemmatized_words\", lemma_udf(col(\"filtered_words\")))"
      ],
      "execution_count": 25,
      "outputs": []
    },
    {
      "cell_type": "markdown",
      "metadata": {
        "id": "73b46930"
      },
      "source": [
        "**Reasoning**:\n",
        "All the preprocessing steps have been re-executed. Now, display the relevant columns to verify the output and complete the subtask.\n",
        "\n"
      ]
    },
    {
      "cell_type": "code",
      "metadata": {
        "colab": {
          "base_uri": "https://localhost:8080/"
        },
        "id": "0a71613e",
        "outputId": "4d10f16b-b364-4eac-a6a1-6c914b010f39"
      },
      "source": [
        "df.select(\"text\", \"filtered_words\", \"stemmed_words\", \"lemmatized_words\").show(truncate=False)"
      ],
      "execution_count": 26,
      "outputs": [
        {
          "output_type": "stream",
          "name": "stdout",
          "text": [
            "+-----------------------------------------------------------------------+-------------------------------------------------------------------------+-------------------------------------------------------------+------------------------------------------------------------------------+\n",
            "|text                                                                   |filtered_words                                                           |stemmed_words                                                |lemmatized_words                                                        |\n",
            "+-----------------------------------------------------------------------+-------------------------------------------------------------------------+-------------------------------------------------------------+------------------------------------------------------------------------+\n",
            "|Cloud computing is becoming increasingly important for businesses      |[cloud, computing, becoming, increasingly, important, businesses]        |[cloud, comput, becom, increasingli, import, busi]           |[cloud, computing, becoming, increasingly, important, business]         |\n",
            "|Basketball players are preparing for the next tournament               |[basketball, players, preparing, next, tournament]                       |[basketbal, player, prepar, next, tournament]                |[basketball, player, preparing, next, tournament]                       |\n",
            "|Machine learning has revolutionized the way data is processed          |[machine, learning, revolutionized, way, data, processed]                |[machin, learn, revolution, way, data, process]              |[machine, learning, revolutionized, way, data, processed]               |\n",
            "|Political campaigns are gearing up for the upcoming elections          |[political, campaigns, gearing, upcoming, elections]                     |[polit, campaign, gear, upcom, elect]                        |[political, campaign, gearing, upcoming, election]                      |\n",
            "|The football team has been training hard for the upcoming season       |[football, team, training, hard, upcoming, season]                       |[footbal, team, train, hard, upcom, season]                  |[football, team, training, hard, upcoming, season]                      |\n",
            "|International relations are being discussed in diplomatic meetings     |[international, relations, discussed, diplomatic, meetings]              |[intern, relat, discuss, diplomat, meet]                     |[international, relation, discussed, diplomatic, meeting]               |\n",
            "|The president addressed the nation in a live broadcast                 |[president, addressed, nation, live, broadcast]                          |[presid, address, nation, live, broadcast]                   |[president, addressed, nation, live, broadcast]                         |\n",
            "|Tennis players are practicing for the grand slam matches               |[tennis, players, practicing, grand, slam, matches]                      |[tenni, player, practic, grand, slam, match]                 |[tennis, player, practicing, grand, slam, match]                        |\n",
            "|Machine learning has revolutionized the way data is processed          |[machine, learning, revolutionized, way, data, processed]                |[machin, learn, revolution, way, data, process]              |[machine, learning, revolutionized, way, data, processed]               |\n",
            "|Stock trading has become a popular way to build wealth                 |[stock, trading, become, popular, way, build, wealth]                    |[stock, trade, becom, popular, way, build, wealth]           |[stock, trading, become, popular, way, build, wealth]                   |\n",
            "|5G technology is expected to significantly improve communication speeds|[5g, technology, expected, significantly, improve, communication, speeds]|[5g, technolog, expect, significantli, improv, commun, speed]|[5g, technology, expected, significantly, improve, communication, speed]|\n",
            "|Political campaigns are gearing up for the upcoming elections          |[political, campaigns, gearing, upcoming, elections]                     |[polit, campaign, gear, upcom, elect]                        |[political, campaign, gearing, upcoming, election]                      |\n",
            "|Machine learning has revolutionized the way data is processed          |[machine, learning, revolutionized, way, data, processed]                |[machin, learn, revolution, way, data, process]              |[machine, learning, revolutionized, way, data, processed]               |\n",
            "|Investors are looking for high-yield bonds in the current market       |[investors, looking, high-yield, bonds, current, market]                 |[investor, look, high-yield, bond, current, market]          |[investor, looking, high-yield, bond, current, market]                  |\n",
            "|Quantum computing holds promise for solving complex problems           |[quantum, computing, holds, promise, solving, complex, problems]         |[quantum, comput, hold, promis, solv, complex, problem]      |[quantum, computing, hold, promise, solving, complex, problem]          |\n",
            "|Cloud computing is becoming increasingly important for businesses      |[cloud, computing, becoming, increasingly, important, businesses]        |[cloud, comput, becom, increasingli, import, busi]           |[cloud, computing, becoming, increasingly, important, business]         |\n",
            "|The Formula 1 race track is set to host the next grand prix            |[formula, 1, race, track, set, host, next, grand, prix]                  |[formula, 1, race, track, set, host, next, grand, prix]      |[formula, 1, race, track, set, host, next, grand, prix]                 |\n",
            "|Financial experts are advising on diversifying investment portfolios   |[financial, experts, advising, diversifying, investment, portfolios]     |[financi, expert, advis, diversifi, invest, portfolio]       |[financial, expert, advising, diversifying, investment, portfolio]      |\n",
            "|Stock trading has become a popular way to build wealth                 |[stock, trading, become, popular, way, build, wealth]                    |[stock, trade, becom, popular, way, build, wealth]           |[stock, trading, become, popular, way, build, wealth]                   |\n",
            "|Stock trading has become a popular way to build wealth                 |[stock, trading, become, popular, way, build, wealth]                    |[stock, trade, becom, popular, way, build, wealth]           |[stock, trading, become, popular, way, build, wealth]                   |\n",
            "+-----------------------------------------------------------------------+-------------------------------------------------------------------------+-------------------------------------------------------------+------------------------------------------------------------------------+\n",
            "only showing top 20 rows\n",
            "\n"
          ]
        }
      ]
    },
    {
      "cell_type": "markdown",
      "metadata": {
        "id": "ef62bb76"
      },
      "source": [
        "## Re-run tokenization\n",
        "\n",
        "### Subtask:\n",
        "Re-execute the tokenization step to create the 'words' column.\n"
      ]
    },
    {
      "cell_type": "markdown",
      "metadata": {
        "id": "4313d0d1"
      },
      "source": [
        "**Reasoning**:\n",
        "Re-execute the tokenization step to create the 'words' column.\n",
        "\n"
      ]
    },
    {
      "cell_type": "code",
      "metadata": {
        "colab": {
          "base_uri": "https://localhost:8080/",
          "height": 304
        },
        "id": "be930c7b",
        "outputId": "aeb03423-7b5e-48d0-fc40-78b05f2688c9"
      },
      "source": [
        "tokenizer = Tokenizer(inputCol=\"text\", outputCol=\"words\")\n",
        "df = tokenizer.transform(df)"
      ],
      "execution_count": 27,
      "outputs": [
        {
          "output_type": "error",
          "ename": "IllegalArgumentException",
          "evalue": "Output column words already exists.",
          "traceback": [
            "\u001b[0;31m---------------------------------------------------------------------------\u001b[0m",
            "\u001b[0;31mIllegalArgumentException\u001b[0m                  Traceback (most recent call last)",
            "\u001b[0;32m/tmp/ipython-input-27-1339554361.py\u001b[0m in \u001b[0;36m<cell line: 0>\u001b[0;34m()\u001b[0m\n\u001b[1;32m      1\u001b[0m \u001b[0mtokenizer\u001b[0m \u001b[0;34m=\u001b[0m \u001b[0mTokenizer\u001b[0m\u001b[0;34m(\u001b[0m\u001b[0minputCol\u001b[0m\u001b[0;34m=\u001b[0m\u001b[0;34m\"text\"\u001b[0m\u001b[0;34m,\u001b[0m \u001b[0moutputCol\u001b[0m\u001b[0;34m=\u001b[0m\u001b[0;34m\"words\"\u001b[0m\u001b[0;34m)\u001b[0m\u001b[0;34m\u001b[0m\u001b[0;34m\u001b[0m\u001b[0m\n\u001b[0;32m----> 2\u001b[0;31m \u001b[0mdf\u001b[0m \u001b[0;34m=\u001b[0m \u001b[0mtokenizer\u001b[0m\u001b[0;34m.\u001b[0m\u001b[0mtransform\u001b[0m\u001b[0;34m(\u001b[0m\u001b[0mdf\u001b[0m\u001b[0;34m)\u001b[0m\u001b[0;34m\u001b[0m\u001b[0;34m\u001b[0m\u001b[0m\n\u001b[0m",
            "\u001b[0;32m/usr/local/lib/python3.11/dist-packages/pyspark/ml/base.py\u001b[0m in \u001b[0;36mtransform\u001b[0;34m(self, dataset, params)\u001b[0m\n\u001b[1;32m    260\u001b[0m                 \u001b[0;32mreturn\u001b[0m \u001b[0mself\u001b[0m\u001b[0;34m.\u001b[0m\u001b[0mcopy\u001b[0m\u001b[0;34m(\u001b[0m\u001b[0mparams\u001b[0m\u001b[0;34m)\u001b[0m\u001b[0;34m.\u001b[0m\u001b[0m_transform\u001b[0m\u001b[0;34m(\u001b[0m\u001b[0mdataset\u001b[0m\u001b[0;34m)\u001b[0m\u001b[0;34m\u001b[0m\u001b[0;34m\u001b[0m\u001b[0m\n\u001b[1;32m    261\u001b[0m             \u001b[0;32melse\u001b[0m\u001b[0;34m:\u001b[0m\u001b[0;34m\u001b[0m\u001b[0;34m\u001b[0m\u001b[0m\n\u001b[0;32m--> 262\u001b[0;31m                 \u001b[0;32mreturn\u001b[0m \u001b[0mself\u001b[0m\u001b[0;34m.\u001b[0m\u001b[0m_transform\u001b[0m\u001b[0;34m(\u001b[0m\u001b[0mdataset\u001b[0m\u001b[0;34m)\u001b[0m\u001b[0;34m\u001b[0m\u001b[0;34m\u001b[0m\u001b[0m\n\u001b[0m\u001b[1;32m    263\u001b[0m         \u001b[0;32melse\u001b[0m\u001b[0;34m:\u001b[0m\u001b[0;34m\u001b[0m\u001b[0;34m\u001b[0m\u001b[0m\n\u001b[1;32m    264\u001b[0m             \u001b[0;32mraise\u001b[0m \u001b[0mTypeError\u001b[0m\u001b[0;34m(\u001b[0m\u001b[0;34m\"Params must be a param map but got %s.\"\u001b[0m \u001b[0;34m%\u001b[0m \u001b[0mtype\u001b[0m\u001b[0;34m(\u001b[0m\u001b[0mparams\u001b[0m\u001b[0;34m)\u001b[0m\u001b[0;34m)\u001b[0m\u001b[0;34m\u001b[0m\u001b[0;34m\u001b[0m\u001b[0m\n",
            "\u001b[0;32m/usr/local/lib/python3.11/dist-packages/pyspark/ml/wrapper.py\u001b[0m in \u001b[0;36m_transform\u001b[0;34m(self, dataset)\u001b[0m\n\u001b[1;32m    396\u001b[0m \u001b[0;34m\u001b[0m\u001b[0m\n\u001b[1;32m    397\u001b[0m         \u001b[0mself\u001b[0m\u001b[0;34m.\u001b[0m\u001b[0m_transfer_params_to_java\u001b[0m\u001b[0;34m(\u001b[0m\u001b[0;34m)\u001b[0m\u001b[0;34m\u001b[0m\u001b[0;34m\u001b[0m\u001b[0m\n\u001b[0;32m--> 398\u001b[0;31m         \u001b[0;32mreturn\u001b[0m \u001b[0mDataFrame\u001b[0m\u001b[0;34m(\u001b[0m\u001b[0mself\u001b[0m\u001b[0;34m.\u001b[0m\u001b[0m_java_obj\u001b[0m\u001b[0;34m.\u001b[0m\u001b[0mtransform\u001b[0m\u001b[0;34m(\u001b[0m\u001b[0mdataset\u001b[0m\u001b[0;34m.\u001b[0m\u001b[0m_jdf\u001b[0m\u001b[0;34m)\u001b[0m\u001b[0;34m,\u001b[0m \u001b[0mdataset\u001b[0m\u001b[0;34m.\u001b[0m\u001b[0msparkSession\u001b[0m\u001b[0;34m)\u001b[0m\u001b[0;34m\u001b[0m\u001b[0;34m\u001b[0m\u001b[0m\n\u001b[0m\u001b[1;32m    399\u001b[0m \u001b[0;34m\u001b[0m\u001b[0m\n\u001b[1;32m    400\u001b[0m \u001b[0;34m\u001b[0m\u001b[0m\n",
            "\u001b[0;32m/usr/local/lib/python3.11/dist-packages/py4j/java_gateway.py\u001b[0m in \u001b[0;36m__call__\u001b[0;34m(self, *args)\u001b[0m\n\u001b[1;32m   1320\u001b[0m \u001b[0;34m\u001b[0m\u001b[0m\n\u001b[1;32m   1321\u001b[0m         \u001b[0manswer\u001b[0m \u001b[0;34m=\u001b[0m \u001b[0mself\u001b[0m\u001b[0;34m.\u001b[0m\u001b[0mgateway_client\u001b[0m\u001b[0;34m.\u001b[0m\u001b[0msend_command\u001b[0m\u001b[0;34m(\u001b[0m\u001b[0mcommand\u001b[0m\u001b[0;34m)\u001b[0m\u001b[0;34m\u001b[0m\u001b[0;34m\u001b[0m\u001b[0m\n\u001b[0;32m-> 1322\u001b[0;31m         return_value = get_return_value(\n\u001b[0m\u001b[1;32m   1323\u001b[0m             answer, self.gateway_client, self.target_id, self.name)\n\u001b[1;32m   1324\u001b[0m \u001b[0;34m\u001b[0m\u001b[0m\n",
            "\u001b[0;32m/usr/local/lib/python3.11/dist-packages/pyspark/errors/exceptions/captured.py\u001b[0m in \u001b[0;36mdeco\u001b[0;34m(*a, **kw)\u001b[0m\n\u001b[1;32m    183\u001b[0m                 \u001b[0;31m# Hide where the exception came from that shows a non-Pythonic\u001b[0m\u001b[0;34m\u001b[0m\u001b[0;34m\u001b[0m\u001b[0m\n\u001b[1;32m    184\u001b[0m                 \u001b[0;31m# JVM exception message.\u001b[0m\u001b[0;34m\u001b[0m\u001b[0;34m\u001b[0m\u001b[0m\n\u001b[0;32m--> 185\u001b[0;31m                 \u001b[0;32mraise\u001b[0m \u001b[0mconverted\u001b[0m \u001b[0;32mfrom\u001b[0m \u001b[0;32mNone\u001b[0m\u001b[0;34m\u001b[0m\u001b[0;34m\u001b[0m\u001b[0m\n\u001b[0m\u001b[1;32m    186\u001b[0m             \u001b[0;32melse\u001b[0m\u001b[0;34m:\u001b[0m\u001b[0;34m\u001b[0m\u001b[0;34m\u001b[0m\u001b[0m\n\u001b[1;32m    187\u001b[0m                 \u001b[0;32mraise\u001b[0m\u001b[0;34m\u001b[0m\u001b[0;34m\u001b[0m\u001b[0m\n",
            "\u001b[0;31mIllegalArgumentException\u001b[0m: Output column words already exists."
          ]
        }
      ]
    },
    {
      "cell_type": "markdown",
      "metadata": {
        "id": "c982d6e3"
      },
      "source": [
        "**Reasoning**:\n",
        "The error indicates that the 'words' column already exists. Since the previous execution failed before displaying the results, the DataFrame `df` still contains the columns from the previous successful steps. I will proceed with the stop words removal step, as the 'words' column should be present.\n",
        "\n"
      ]
    },
    {
      "cell_type": "code",
      "metadata": {
        "colab": {
          "base_uri": "https://localhost:8080/",
          "height": 304
        },
        "id": "aiyUTGBRzGUB",
        "outputId": "c7f434d0-60de-4bd8-afb0-ed472021b86d"
      },
      "source": [
        "remover = StopWordsRemover(inputCol=\"words\", outputCol=\"filtered_words\")\n",
        "df = remover.transform(df)"
      ],
      "execution_count": 28,
      "outputs": [
        {
          "output_type": "error",
          "ename": "IllegalArgumentException",
          "evalue": "requirement failed: Output Column filtered_words already exists.",
          "traceback": [
            "\u001b[0;31m---------------------------------------------------------------------------\u001b[0m",
            "\u001b[0;31mIllegalArgumentException\u001b[0m                  Traceback (most recent call last)",
            "\u001b[0;32m/tmp/ipython-input-28-1756865060.py\u001b[0m in \u001b[0;36m<cell line: 0>\u001b[0;34m()\u001b[0m\n\u001b[1;32m      1\u001b[0m \u001b[0mremover\u001b[0m \u001b[0;34m=\u001b[0m \u001b[0mStopWordsRemover\u001b[0m\u001b[0;34m(\u001b[0m\u001b[0minputCol\u001b[0m\u001b[0;34m=\u001b[0m\u001b[0;34m\"words\"\u001b[0m\u001b[0;34m,\u001b[0m \u001b[0moutputCol\u001b[0m\u001b[0;34m=\u001b[0m\u001b[0;34m\"filtered_words\"\u001b[0m\u001b[0;34m)\u001b[0m\u001b[0;34m\u001b[0m\u001b[0;34m\u001b[0m\u001b[0m\n\u001b[0;32m----> 2\u001b[0;31m \u001b[0mdf\u001b[0m \u001b[0;34m=\u001b[0m \u001b[0mremover\u001b[0m\u001b[0;34m.\u001b[0m\u001b[0mtransform\u001b[0m\u001b[0;34m(\u001b[0m\u001b[0mdf\u001b[0m\u001b[0;34m)\u001b[0m\u001b[0;34m\u001b[0m\u001b[0;34m\u001b[0m\u001b[0m\n\u001b[0m",
            "\u001b[0;32m/usr/local/lib/python3.11/dist-packages/pyspark/ml/base.py\u001b[0m in \u001b[0;36mtransform\u001b[0;34m(self, dataset, params)\u001b[0m\n\u001b[1;32m    260\u001b[0m                 \u001b[0;32mreturn\u001b[0m \u001b[0mself\u001b[0m\u001b[0;34m.\u001b[0m\u001b[0mcopy\u001b[0m\u001b[0;34m(\u001b[0m\u001b[0mparams\u001b[0m\u001b[0;34m)\u001b[0m\u001b[0;34m.\u001b[0m\u001b[0m_transform\u001b[0m\u001b[0;34m(\u001b[0m\u001b[0mdataset\u001b[0m\u001b[0;34m)\u001b[0m\u001b[0;34m\u001b[0m\u001b[0;34m\u001b[0m\u001b[0m\n\u001b[1;32m    261\u001b[0m             \u001b[0;32melse\u001b[0m\u001b[0;34m:\u001b[0m\u001b[0;34m\u001b[0m\u001b[0;34m\u001b[0m\u001b[0m\n\u001b[0;32m--> 262\u001b[0;31m                 \u001b[0;32mreturn\u001b[0m \u001b[0mself\u001b[0m\u001b[0;34m.\u001b[0m\u001b[0m_transform\u001b[0m\u001b[0;34m(\u001b[0m\u001b[0mdataset\u001b[0m\u001b[0;34m)\u001b[0m\u001b[0;34m\u001b[0m\u001b[0;34m\u001b[0m\u001b[0m\n\u001b[0m\u001b[1;32m    263\u001b[0m         \u001b[0;32melse\u001b[0m\u001b[0;34m:\u001b[0m\u001b[0;34m\u001b[0m\u001b[0;34m\u001b[0m\u001b[0m\n\u001b[1;32m    264\u001b[0m             \u001b[0;32mraise\u001b[0m \u001b[0mTypeError\u001b[0m\u001b[0;34m(\u001b[0m\u001b[0;34m\"Params must be a param map but got %s.\"\u001b[0m \u001b[0;34m%\u001b[0m \u001b[0mtype\u001b[0m\u001b[0;34m(\u001b[0m\u001b[0mparams\u001b[0m\u001b[0;34m)\u001b[0m\u001b[0;34m)\u001b[0m\u001b[0;34m\u001b[0m\u001b[0;34m\u001b[0m\u001b[0m\n",
            "\u001b[0;32m/usr/local/lib/python3.11/dist-packages/pyspark/ml/wrapper.py\u001b[0m in \u001b[0;36m_transform\u001b[0;34m(self, dataset)\u001b[0m\n\u001b[1;32m    396\u001b[0m \u001b[0;34m\u001b[0m\u001b[0m\n\u001b[1;32m    397\u001b[0m         \u001b[0mself\u001b[0m\u001b[0;34m.\u001b[0m\u001b[0m_transfer_params_to_java\u001b[0m\u001b[0;34m(\u001b[0m\u001b[0;34m)\u001b[0m\u001b[0;34m\u001b[0m\u001b[0;34m\u001b[0m\u001b[0m\n\u001b[0;32m--> 398\u001b[0;31m         \u001b[0;32mreturn\u001b[0m \u001b[0mDataFrame\u001b[0m\u001b[0;34m(\u001b[0m\u001b[0mself\u001b[0m\u001b[0;34m.\u001b[0m\u001b[0m_java_obj\u001b[0m\u001b[0;34m.\u001b[0m\u001b[0mtransform\u001b[0m\u001b[0;34m(\u001b[0m\u001b[0mdataset\u001b[0m\u001b[0;34m.\u001b[0m\u001b[0m_jdf\u001b[0m\u001b[0;34m)\u001b[0m\u001b[0;34m,\u001b[0m \u001b[0mdataset\u001b[0m\u001b[0;34m.\u001b[0m\u001b[0msparkSession\u001b[0m\u001b[0;34m)\u001b[0m\u001b[0;34m\u001b[0m\u001b[0;34m\u001b[0m\u001b[0m\n\u001b[0m\u001b[1;32m    399\u001b[0m \u001b[0;34m\u001b[0m\u001b[0m\n\u001b[1;32m    400\u001b[0m \u001b[0;34m\u001b[0m\u001b[0m\n",
            "\u001b[0;32m/usr/local/lib/python3.11/dist-packages/py4j/java_gateway.py\u001b[0m in \u001b[0;36m__call__\u001b[0;34m(self, *args)\u001b[0m\n\u001b[1;32m   1320\u001b[0m \u001b[0;34m\u001b[0m\u001b[0m\n\u001b[1;32m   1321\u001b[0m         \u001b[0manswer\u001b[0m \u001b[0;34m=\u001b[0m \u001b[0mself\u001b[0m\u001b[0;34m.\u001b[0m\u001b[0mgateway_client\u001b[0m\u001b[0;34m.\u001b[0m\u001b[0msend_command\u001b[0m\u001b[0;34m(\u001b[0m\u001b[0mcommand\u001b[0m\u001b[0;34m)\u001b[0m\u001b[0;34m\u001b[0m\u001b[0;34m\u001b[0m\u001b[0m\n\u001b[0;32m-> 1322\u001b[0;31m         return_value = get_return_value(\n\u001b[0m\u001b[1;32m   1323\u001b[0m             answer, self.gateway_client, self.target_id, self.name)\n\u001b[1;32m   1324\u001b[0m \u001b[0;34m\u001b[0m\u001b[0m\n",
            "\u001b[0;32m/usr/local/lib/python3.11/dist-packages/pyspark/errors/exceptions/captured.py\u001b[0m in \u001b[0;36mdeco\u001b[0;34m(*a, **kw)\u001b[0m\n\u001b[1;32m    183\u001b[0m                 \u001b[0;31m# Hide where the exception came from that shows a non-Pythonic\u001b[0m\u001b[0;34m\u001b[0m\u001b[0;34m\u001b[0m\u001b[0m\n\u001b[1;32m    184\u001b[0m                 \u001b[0;31m# JVM exception message.\u001b[0m\u001b[0;34m\u001b[0m\u001b[0;34m\u001b[0m\u001b[0m\n\u001b[0;32m--> 185\u001b[0;31m                 \u001b[0;32mraise\u001b[0m \u001b[0mconverted\u001b[0m \u001b[0;32mfrom\u001b[0m \u001b[0;32mNone\u001b[0m\u001b[0;34m\u001b[0m\u001b[0;34m\u001b[0m\u001b[0m\n\u001b[0m\u001b[1;32m    186\u001b[0m             \u001b[0;32melse\u001b[0m\u001b[0;34m:\u001b[0m\u001b[0;34m\u001b[0m\u001b[0;34m\u001b[0m\u001b[0m\n\u001b[1;32m    187\u001b[0m                 \u001b[0;32mraise\u001b[0m\u001b[0;34m\u001b[0m\u001b[0;34m\u001b[0m\u001b[0m\n",
            "\u001b[0;31mIllegalArgumentException\u001b[0m: requirement failed: Output Column filtered_words already exists."
          ]
        }
      ]
    },
    {
      "cell_type": "markdown",
      "metadata": {
        "id": "a9a58881"
      },
      "source": [
        "**Reasoning**:\n",
        "Similar to the previous error, the 'filtered_words' column also exists. This indicates that the previous successful executions have already created this column. I will proceed with the stemming step.\n",
        "\n"
      ]
    },
    {
      "cell_type": "code",
      "metadata": {
        "id": "7WAZKE2QzHyC"
      },
      "source": [
        "df = df.withColumn(\"stemmed_words\", stem_udf(col(\"filtered_words\")))"
      ],
      "execution_count": 29,
      "outputs": []
    },
    {
      "cell_type": "markdown",
      "metadata": {
        "id": "d53fc3d4"
      },
      "source": [
        "**Reasoning**:\n",
        "The stemming step was successful, and the 'stemmed_words' column should now be updated. I will proceed with the lemmatization step.\n",
        "\n"
      ]
    },
    {
      "cell_type": "code",
      "metadata": {
        "id": "3aa5a1a6"
      },
      "source": [
        "df = df.withColumn(\"lemmatized_words\", lemma_udf(col(\"filtered_words\")))"
      ],
      "execution_count": 30,
      "outputs": []
    },
    {
      "cell_type": "markdown",
      "metadata": {
        "id": "6c58cb53"
      },
      "source": [
        "**Reasoning**:\n",
        "All the preprocessing steps (tokenization, stop words removal, stemming, and lemmatization) should now be completed and the corresponding columns should exist in the DataFrame. I will display the relevant columns to show the results of the preprocessing.\n",
        "\n"
      ]
    },
    {
      "cell_type": "code",
      "metadata": {
        "colab": {
          "base_uri": "https://localhost:8080/"
        },
        "id": "bfacfa7f",
        "outputId": "74ace810-cb2d-4fae-98f5-8c30e4f71be7"
      },
      "source": [
        "df.select(\"text\", \"filtered_words\", \"stemmed_words\", \"lemmatized_words\").show(truncate=False)"
      ],
      "execution_count": 31,
      "outputs": [
        {
          "output_type": "stream",
          "name": "stdout",
          "text": [
            "+-----------------------------------------------------------------------+-------------------------------------------------------------------------+-------------------------------------------------------------+------------------------------------------------------------------------+\n",
            "|text                                                                   |filtered_words                                                           |stemmed_words                                                |lemmatized_words                                                        |\n",
            "+-----------------------------------------------------------------------+-------------------------------------------------------------------------+-------------------------------------------------------------+------------------------------------------------------------------------+\n",
            "|Cloud computing is becoming increasingly important for businesses      |[cloud, computing, becoming, increasingly, important, businesses]        |[cloud, comput, becom, increasingli, import, busi]           |[cloud, computing, becoming, increasingly, important, business]         |\n",
            "|Basketball players are preparing for the next tournament               |[basketball, players, preparing, next, tournament]                       |[basketbal, player, prepar, next, tournament]                |[basketball, player, preparing, next, tournament]                       |\n",
            "|Machine learning has revolutionized the way data is processed          |[machine, learning, revolutionized, way, data, processed]                |[machin, learn, revolution, way, data, process]              |[machine, learning, revolutionized, way, data, processed]               |\n",
            "|Political campaigns are gearing up for the upcoming elections          |[political, campaigns, gearing, upcoming, elections]                     |[polit, campaign, gear, upcom, elect]                        |[political, campaign, gearing, upcoming, election]                      |\n",
            "|The football team has been training hard for the upcoming season       |[football, team, training, hard, upcoming, season]                       |[footbal, team, train, hard, upcom, season]                  |[football, team, training, hard, upcoming, season]                      |\n",
            "|International relations are being discussed in diplomatic meetings     |[international, relations, discussed, diplomatic, meetings]              |[intern, relat, discuss, diplomat, meet]                     |[international, relation, discussed, diplomatic, meeting]               |\n",
            "|The president addressed the nation in a live broadcast                 |[president, addressed, nation, live, broadcast]                          |[presid, address, nation, live, broadcast]                   |[president, addressed, nation, live, broadcast]                         |\n",
            "|Tennis players are practicing for the grand slam matches               |[tennis, players, practicing, grand, slam, matches]                      |[tenni, player, practic, grand, slam, match]                 |[tennis, player, practicing, grand, slam, match]                        |\n",
            "|Machine learning has revolutionized the way data is processed          |[machine, learning, revolutionized, way, data, processed]                |[machin, learn, revolution, way, data, process]              |[machine, learning, revolutionized, way, data, processed]               |\n",
            "|Stock trading has become a popular way to build wealth                 |[stock, trading, become, popular, way, build, wealth]                    |[stock, trade, becom, popular, way, build, wealth]           |[stock, trading, become, popular, way, build, wealth]                   |\n",
            "|5G technology is expected to significantly improve communication speeds|[5g, technology, expected, significantly, improve, communication, speeds]|[5g, technolog, expect, significantli, improv, commun, speed]|[5g, technology, expected, significantly, improve, communication, speed]|\n",
            "|Political campaigns are gearing up for the upcoming elections          |[political, campaigns, gearing, upcoming, elections]                     |[polit, campaign, gear, upcom, elect]                        |[political, campaign, gearing, upcoming, election]                      |\n",
            "|Machine learning has revolutionized the way data is processed          |[machine, learning, revolutionized, way, data, processed]                |[machin, learn, revolution, way, data, process]              |[machine, learning, revolutionized, way, data, processed]               |\n",
            "|Investors are looking for high-yield bonds in the current market       |[investors, looking, high-yield, bonds, current, market]                 |[investor, look, high-yield, bond, current, market]          |[investor, looking, high-yield, bond, current, market]                  |\n",
            "|Quantum computing holds promise for solving complex problems           |[quantum, computing, holds, promise, solving, complex, problems]         |[quantum, comput, hold, promis, solv, complex, problem]      |[quantum, computing, hold, promise, solving, complex, problem]          |\n",
            "|Cloud computing is becoming increasingly important for businesses      |[cloud, computing, becoming, increasingly, important, businesses]        |[cloud, comput, becom, increasingli, import, busi]           |[cloud, computing, becoming, increasingly, important, business]         |\n",
            "|The Formula 1 race track is set to host the next grand prix            |[formula, 1, race, track, set, host, next, grand, prix]                  |[formula, 1, race, track, set, host, next, grand, prix]      |[formula, 1, race, track, set, host, next, grand, prix]                 |\n",
            "|Financial experts are advising on diversifying investment portfolios   |[financial, experts, advising, diversifying, investment, portfolios]     |[financi, expert, advis, diversifi, invest, portfolio]       |[financial, expert, advising, diversifying, investment, portfolio]      |\n",
            "|Stock trading has become a popular way to build wealth                 |[stock, trading, become, popular, way, build, wealth]                    |[stock, trade, becom, popular, way, build, wealth]           |[stock, trading, become, popular, way, build, wealth]                   |\n",
            "|Stock trading has become a popular way to build wealth                 |[stock, trading, become, popular, way, build, wealth]                    |[stock, trade, becom, popular, way, build, wealth]           |[stock, trading, become, popular, way, build, wealth]                   |\n",
            "+-----------------------------------------------------------------------+-------------------------------------------------------------------------+-------------------------------------------------------------+------------------------------------------------------------------------+\n",
            "only showing top 20 rows\n",
            "\n"
          ]
        }
      ]
    },
    {
      "cell_type": "markdown",
      "metadata": {
        "id": "e2e63e48"
      },
      "source": [
        "## Display processed data\n",
        "\n",
        "### Subtask:\n",
        "Display the 'text', 'filtered_words', 'stemmed_words', and 'lemmatized_words' columns to verify the preprocessing.\n"
      ]
    },
    {
      "cell_type": "markdown",
      "metadata": {
        "id": "05261efd"
      },
      "source": [
        "**Reasoning**:\n",
        "Display the specified columns from the DataFrame to verify the preprocessing steps.\n",
        "\n"
      ]
    },
    {
      "cell_type": "code",
      "metadata": {
        "colab": {
          "base_uri": "https://localhost:8080/"
        },
        "id": "e9cde394",
        "outputId": "b25b1413-78e1-4902-f671-44aa4b4eb7e0"
      },
      "source": [
        "df.select(\"text\", \"filtered_words\", \"stemmed_words\", \"lemmatized_words\").show(truncate=False)"
      ],
      "execution_count": 32,
      "outputs": [
        {
          "output_type": "stream",
          "name": "stdout",
          "text": [
            "+-----------------------------------------------------------------------+-------------------------------------------------------------------------+-------------------------------------------------------------+------------------------------------------------------------------------+\n",
            "|text                                                                   |filtered_words                                                           |stemmed_words                                                |lemmatized_words                                                        |\n",
            "+-----------------------------------------------------------------------+-------------------------------------------------------------------------+-------------------------------------------------------------+------------------------------------------------------------------------+\n",
            "|Cloud computing is becoming increasingly important for businesses      |[cloud, computing, becoming, increasingly, important, businesses]        |[cloud, comput, becom, increasingli, import, busi]           |[cloud, computing, becoming, increasingly, important, business]         |\n",
            "|Basketball players are preparing for the next tournament               |[basketball, players, preparing, next, tournament]                       |[basketbal, player, prepar, next, tournament]                |[basketball, player, preparing, next, tournament]                       |\n",
            "|Machine learning has revolutionized the way data is processed          |[machine, learning, revolutionized, way, data, processed]                |[machin, learn, revolution, way, data, process]              |[machine, learning, revolutionized, way, data, processed]               |\n",
            "|Political campaigns are gearing up for the upcoming elections          |[political, campaigns, gearing, upcoming, elections]                     |[polit, campaign, gear, upcom, elect]                        |[political, campaign, gearing, upcoming, election]                      |\n",
            "|The football team has been training hard for the upcoming season       |[football, team, training, hard, upcoming, season]                       |[footbal, team, train, hard, upcom, season]                  |[football, team, training, hard, upcoming, season]                      |\n",
            "|International relations are being discussed in diplomatic meetings     |[international, relations, discussed, diplomatic, meetings]              |[intern, relat, discuss, diplomat, meet]                     |[international, relation, discussed, diplomatic, meeting]               |\n",
            "|The president addressed the nation in a live broadcast                 |[president, addressed, nation, live, broadcast]                          |[presid, address, nation, live, broadcast]                   |[president, addressed, nation, live, broadcast]                         |\n",
            "|Tennis players are practicing for the grand slam matches               |[tennis, players, practicing, grand, slam, matches]                      |[tenni, player, practic, grand, slam, match]                 |[tennis, player, practicing, grand, slam, match]                        |\n",
            "|Machine learning has revolutionized the way data is processed          |[machine, learning, revolutionized, way, data, processed]                |[machin, learn, revolution, way, data, process]              |[machine, learning, revolutionized, way, data, processed]               |\n",
            "|Stock trading has become a popular way to build wealth                 |[stock, trading, become, popular, way, build, wealth]                    |[stock, trade, becom, popular, way, build, wealth]           |[stock, trading, become, popular, way, build, wealth]                   |\n",
            "|5G technology is expected to significantly improve communication speeds|[5g, technology, expected, significantly, improve, communication, speeds]|[5g, technolog, expect, significantli, improv, commun, speed]|[5g, technology, expected, significantly, improve, communication, speed]|\n",
            "|Political campaigns are gearing up for the upcoming elections          |[political, campaigns, gearing, upcoming, elections]                     |[polit, campaign, gear, upcom, elect]                        |[political, campaign, gearing, upcoming, election]                      |\n",
            "|Machine learning has revolutionized the way data is processed          |[machine, learning, revolutionized, way, data, processed]                |[machin, learn, revolution, way, data, process]              |[machine, learning, revolutionized, way, data, processed]               |\n",
            "|Investors are looking for high-yield bonds in the current market       |[investors, looking, high-yield, bonds, current, market]                 |[investor, look, high-yield, bond, current, market]          |[investor, looking, high-yield, bond, current, market]                  |\n",
            "|Quantum computing holds promise for solving complex problems           |[quantum, computing, holds, promise, solving, complex, problems]         |[quantum, comput, hold, promis, solv, complex, problem]      |[quantum, computing, hold, promise, solving, complex, problem]          |\n",
            "|Cloud computing is becoming increasingly important for businesses      |[cloud, computing, becoming, increasingly, important, businesses]        |[cloud, comput, becom, increasingli, import, busi]           |[cloud, computing, becoming, increasingly, important, business]         |\n",
            "|The Formula 1 race track is set to host the next grand prix            |[formula, 1, race, track, set, host, next, grand, prix]                  |[formula, 1, race, track, set, host, next, grand, prix]      |[formula, 1, race, track, set, host, next, grand, prix]                 |\n",
            "|Financial experts are advising on diversifying investment portfolios   |[financial, experts, advising, diversifying, investment, portfolios]     |[financi, expert, advis, diversifi, invest, portfolio]       |[financial, expert, advising, diversifying, investment, portfolio]      |\n",
            "|Stock trading has become a popular way to build wealth                 |[stock, trading, become, popular, way, build, wealth]                    |[stock, trade, becom, popular, way, build, wealth]           |[stock, trading, become, popular, way, build, wealth]                   |\n",
            "|Stock trading has become a popular way to build wealth                 |[stock, trading, become, popular, way, build, wealth]                    |[stock, trade, becom, popular, way, build, wealth]           |[stock, trading, become, popular, way, build, wealth]                   |\n",
            "+-----------------------------------------------------------------------+-------------------------------------------------------------------------+-------------------------------------------------------------+------------------------------------------------------------------------+\n",
            "only showing top 20 rows\n",
            "\n"
          ]
        }
      ]
    },
    {
      "cell_type": "markdown",
      "metadata": {
        "id": "5494a5cb"
      },
      "source": [
        "## Summary:\n",
        "\n",
        "### Data Analysis Key Findings\n",
        "\n",
        "*   The initial error was caused by the absence of the 'words' column, which is the output of the tokenization step.\n",
        "*   Re-executing the tokenization, stop word removal, stemming, and lemmatization steps in the correct sequence resolved the issue.\n",
        "*   The final DataFrame contains the original text, tokenized words (with stop words removed), stemmed words, and lemmatized words in separate columns.\n",
        "\n",
        "### Insights or Next Steps\n",
        "\n",
        "*   Ensure that all necessary intermediate columns are created in the correct order during sequential data processing steps.\n",
        "*   Verify the output of each major preprocessing step to catch errors early in the process.\n"
      ]
    },
    {
      "cell_type": "code",
      "metadata": {
        "colab": {
          "base_uri": "https://localhost:8080/"
        },
        "id": "2432e55d",
        "outputId": "863cc455-aa6c-476c-d15f-26509c0ea0ed"
      },
      "source": [
        "df.select(\"text\", \"filtered_words\", \"stemmed_words\", \"lemmatized_words\").show(truncate=False)"
      ],
      "execution_count": 33,
      "outputs": [
        {
          "output_type": "stream",
          "name": "stdout",
          "text": [
            "+-----------------------------------------------------------------------+-------------------------------------------------------------------------+-------------------------------------------------------------+------------------------------------------------------------------------+\n",
            "|text                                                                   |filtered_words                                                           |stemmed_words                                                |lemmatized_words                                                        |\n",
            "+-----------------------------------------------------------------------+-------------------------------------------------------------------------+-------------------------------------------------------------+------------------------------------------------------------------------+\n",
            "|Cloud computing is becoming increasingly important for businesses      |[cloud, computing, becoming, increasingly, important, businesses]        |[cloud, comput, becom, increasingli, import, busi]           |[cloud, computing, becoming, increasingly, important, business]         |\n",
            "|Basketball players are preparing for the next tournament               |[basketball, players, preparing, next, tournament]                       |[basketbal, player, prepar, next, tournament]                |[basketball, player, preparing, next, tournament]                       |\n",
            "|Machine learning has revolutionized the way data is processed          |[machine, learning, revolutionized, way, data, processed]                |[machin, learn, revolution, way, data, process]              |[machine, learning, revolutionized, way, data, processed]               |\n",
            "|Political campaigns are gearing up for the upcoming elections          |[political, campaigns, gearing, upcoming, elections]                     |[polit, campaign, gear, upcom, elect]                        |[political, campaign, gearing, upcoming, election]                      |\n",
            "|The football team has been training hard for the upcoming season       |[football, team, training, hard, upcoming, season]                       |[footbal, team, train, hard, upcom, season]                  |[football, team, training, hard, upcoming, season]                      |\n",
            "|International relations are being discussed in diplomatic meetings     |[international, relations, discussed, diplomatic, meetings]              |[intern, relat, discuss, diplomat, meet]                     |[international, relation, discussed, diplomatic, meeting]               |\n",
            "|The president addressed the nation in a live broadcast                 |[president, addressed, nation, live, broadcast]                          |[presid, address, nation, live, broadcast]                   |[president, addressed, nation, live, broadcast]                         |\n",
            "|Tennis players are practicing for the grand slam matches               |[tennis, players, practicing, grand, slam, matches]                      |[tenni, player, practic, grand, slam, match]                 |[tennis, player, practicing, grand, slam, match]                        |\n",
            "|Machine learning has revolutionized the way data is processed          |[machine, learning, revolutionized, way, data, processed]                |[machin, learn, revolution, way, data, process]              |[machine, learning, revolutionized, way, data, processed]               |\n",
            "|Stock trading has become a popular way to build wealth                 |[stock, trading, become, popular, way, build, wealth]                    |[stock, trade, becom, popular, way, build, wealth]           |[stock, trading, become, popular, way, build, wealth]                   |\n",
            "|5G technology is expected to significantly improve communication speeds|[5g, technology, expected, significantly, improve, communication, speeds]|[5g, technolog, expect, significantli, improv, commun, speed]|[5g, technology, expected, significantly, improve, communication, speed]|\n",
            "|Political campaigns are gearing up for the upcoming elections          |[political, campaigns, gearing, upcoming, elections]                     |[polit, campaign, gear, upcom, elect]                        |[political, campaign, gearing, upcoming, election]                      |\n",
            "|Machine learning has revolutionized the way data is processed          |[machine, learning, revolutionized, way, data, processed]                |[machin, learn, revolution, way, data, process]              |[machine, learning, revolutionized, way, data, processed]               |\n",
            "|Investors are looking for high-yield bonds in the current market       |[investors, looking, high-yield, bonds, current, market]                 |[investor, look, high-yield, bond, current, market]          |[investor, looking, high-yield, bond, current, market]                  |\n",
            "|Quantum computing holds promise for solving complex problems           |[quantum, computing, holds, promise, solving, complex, problems]         |[quantum, comput, hold, promis, solv, complex, problem]      |[quantum, computing, hold, promise, solving, complex, problem]          |\n",
            "|Cloud computing is becoming increasingly important for businesses      |[cloud, computing, becoming, increasingly, important, businesses]        |[cloud, comput, becom, increasingli, import, busi]           |[cloud, computing, becoming, increasingly, important, business]         |\n",
            "|The Formula 1 race track is set to host the next grand prix            |[formula, 1, race, track, set, host, next, grand, prix]                  |[formula, 1, race, track, set, host, next, grand, prix]      |[formula, 1, race, track, set, host, next, grand, prix]                 |\n",
            "|Financial experts are advising on diversifying investment portfolios   |[financial, experts, advising, diversifying, investment, portfolios]     |[financi, expert, advis, diversifi, invest, portfolio]       |[financial, expert, advising, diversifying, investment, portfolio]      |\n",
            "|Stock trading has become a popular way to build wealth                 |[stock, trading, become, popular, way, build, wealth]                    |[stock, trade, becom, popular, way, build, wealth]           |[stock, trading, become, popular, way, build, wealth]                   |\n",
            "|Stock trading has become a popular way to build wealth                 |[stock, trading, become, popular, way, build, wealth]                    |[stock, trade, becom, popular, way, build, wealth]           |[stock, trading, become, popular, way, build, wealth]                   |\n",
            "+-----------------------------------------------------------------------+-------------------------------------------------------------------------+-------------------------------------------------------------+------------------------------------------------------------------------+\n",
            "only showing top 20 rows\n",
            "\n"
          ]
        }
      ]
    },
    {
      "cell_type": "code",
      "metadata": {
        "colab": {
          "base_uri": "https://localhost:8080/"
        },
        "id": "33871f0f",
        "outputId": "9fe01068-3b7f-42ec-d1c1-3cad16cc1f50"
      },
      "source": [
        "# Compute TF (Term Frequency) using HashingTF\n",
        "hashingTF = HashingTF(inputCol=\"lemmatized_words\", outputCol=\"raw_features\", numFeatures=500)\n",
        "df = hashingTF.transform(df)\n",
        "\n",
        "# Compute IDF (Inverse Document Frequency)\n",
        "idf = IDF(inputCol=\"raw_features\", outputCol=\"features\")\n",
        "idf_model = idf.fit(df)\n",
        "df = idf_model.transform(df)\n",
        "\n",
        "# Show TF-IDF Features\n",
        "df.select(\"text\", \"features\").show(truncate=False)"
      ],
      "execution_count": 34,
      "outputs": [
        {
          "output_type": "stream",
          "name": "stdout",
          "text": [
            "+-----------------------------------------------------------------------+---------------------------------------------------------------------------------------------------------------------------------------------------------------------------------------------------------------------+\n",
            "|text                                                                   |features                                                                                                                                                                                                             |\n",
            "+-----------------------------------------------------------------------+---------------------------------------------------------------------------------------------------------------------------------------------------------------------------------------------------------------------+\n",
            "|Cloud computing is becoming increasingly important for businesses      |(500,[13,287,345,374,467,480],[2.0794415416798357,2.0794415416798357,1.791759469228055,2.0794415416798357,2.0794415416798357,2.0794415416798357])                                                                    |\n",
            "|Basketball players are preparing for the next tournament               |(500,[63,104,243,273,367],[2.4849066497880004,1.791759469228055,2.4849066497880004,1.791759469228055,2.4849066497880004])                                                                                            |\n",
            "|Machine learning has revolutionized the way data is processed          |(500,[40,65,72,195,360,391],[1.0986122886681098,1.791759469228055,1.791759469228055,1.791759469228055,1.791759469228055,1.2321436812926323])                                                                         |\n",
            "|Political campaigns are gearing up for the upcoming elections          |(500,[40,132,175,435,461],[1.0986122886681098,1.791759469228055,1.791759469228055,1.791759469228055,1.791759469228055])                                                                                              |\n",
            "|The football team has been training hard for the upcoming season       |(500,[38,40,104,125,358,468],[2.4849066497880004,1.0986122886681098,1.791759469228055,2.4849066497880004,2.4849066497880004,2.4849066497880004])                                                                     |\n",
            "|International relations are being discussed in diplomatic meetings     |(500,[20,60,188,208,479],[1.791759469228055,2.0794415416798357,2.0794415416798357,2.0794415416798357,2.0794415416798357])                                                                                            |\n",
            "|The president addressed the nation in a live broadcast                 |(500,[14,244,251,306,493],[1.5686159179138452,2.4849066497880004,2.4849066497880004,2.4849066497880004,2.4849066497880004])                                                                                          |\n",
            "|Tennis players are practicing for the grand slam matches               |(500,[90,94,104,226,293,456],[1.2321436812926323,2.4849066497880004,1.791759469228055,2.4849066497880004,1.5686159179138452,2.4849066497880004])                                                                     |\n",
            "|Machine learning has revolutionized the way data is processed          |(500,[40,65,72,195,360,391],[1.0986122886681098,1.791759469228055,1.791759469228055,1.791759469228055,1.791759469228055,1.2321436812926323])                                                                         |\n",
            "|Stock trading has become a popular way to build wealth                 |(500,[14,90,148,293,391,490],[1.5686159179138452,2.4642873625852646,1.791759469228055,1.5686159179138452,1.2321436812926323,1.791759469228055])                                                                      |\n",
            "|5G technology is expected to significantly improve communication speeds|(500,[20,143,164,171,292,408,482],[1.791759469228055,2.4849066497880004,2.4849066497880004,2.4849066497880004,2.4849066497880004,2.4849066497880004,2.4849066497880004])                                             |\n",
            "|Political campaigns are gearing up for the upcoming elections          |(500,[40,132,175,435,461],[1.0986122886681098,1.791759469228055,1.791759469228055,1.791759469228055,1.791759469228055])                                                                                              |\n",
            "|Machine learning has revolutionized the way data is processed          |(500,[40,65,72,195,360,391],[1.0986122886681098,1.791759469228055,1.791759469228055,1.791759469228055,1.791759469228055,1.2321436812926323])                                                                         |\n",
            "|Investors are looking for high-yield bonds in the current market       |(500,[147,157,189,232,248,436],[2.4849066497880004,2.4849066497880004,2.4849066497880004,2.4849066497880004,2.4849066497880004,2.4849066497880004])                                                                  |\n",
            "|Quantum computing holds promise for solving complex problems           |(500,[53,56,198,333,345,355,389],[2.4849066497880004,2.4849066497880004,2.4849066497880004,2.4849066497880004,1.791759469228055,2.4849066497880004,2.4849066497880004])                                              |\n",
            "|Cloud computing is becoming increasingly important for businesses      |(500,[13,287,345,374,467,480],[2.0794415416798357,2.0794415416798357,1.791759469228055,2.0794415416798357,2.0794415416798357,2.0794415416798357])                                                                    |\n",
            "|The Formula 1 race track is set to host the next grand prix            |(500,[90,95,102,273,342,413,431,452,454],[1.2321436812926323,2.0794415416798357,2.0794415416798357,1.791759469228055,2.0794415416798357,2.0794415416798357,2.0794415416798357,2.0794415416798357,2.0794415416798357])|\n",
            "|Financial experts are advising on diversifying investment portfolios   |(500,[62,93,161,178,407,414],[2.4849066497880004,2.4849066497880004,2.4849066497880004,2.4849066497880004,2.4849066497880004,2.4849066497880004])                                                                    |\n",
            "|Stock trading has become a popular way to build wealth                 |(500,[14,90,148,293,391,490],[1.5686159179138452,2.4642873625852646,1.791759469228055,1.5686159179138452,1.2321436812926323,1.791759469228055])                                                                      |\n",
            "|Stock trading has become a popular way to build wealth                 |(500,[14,90,148,293,391,490],[1.5686159179138452,2.4642873625852646,1.791759469228055,1.5686159179138452,1.2321436812926323,1.791759469228055])                                                                      |\n",
            "+-----------------------------------------------------------------------+---------------------------------------------------------------------------------------------------------------------------------------------------------------------------------------------------------------------+\n",
            "only showing top 20 rows\n",
            "\n"
          ]
        }
      ]
    },
    {
      "cell_type": "code",
      "metadata": {
        "colab": {
          "base_uri": "https://localhost:8080/"
        },
        "id": "fc992913",
        "outputId": "edc4de24-56eb-4612-c0cb-0e735ac1d0aa"
      },
      "source": [
        "indexer = StringIndexer(inputCol=\"category\", outputCol=\"label\")\n",
        "df = indexer.fit(df).transform(df)\n",
        "df.select(\"category\", \"label\").distinct().show()\n",
        "# Split Data\n",
        "train_data, test_data = df.randomSplit([0.8, 0.2], seed=42)\n",
        "\n",
        "# Train Logistic Regression Model\n",
        "lr = LogisticRegression(featuresCol=\"features\", labelCol=\"label\")\n",
        "lr_model = lr.fit(train_data)\n",
        "\n",
        "# Predictions\n",
        "predictions = lr_model.transform(test_data)\n",
        "predictions.select(\"text\", \"category\", \"prediction\").show(truncate=False)\n",
        "\n",
        "# Evaluate Model Accuracy\n",
        "evaluator = MulticlassClassificationEvaluator(labelCol=\"label\", predictionCol=\"prediction\", metricName=\"accuracy\")\n",
        "accuracy_tf_idf = evaluator.evaluate(predictions)\n",
        "print(f\"TF-IDF Model Accuracy: {accuracy_tf_idf:.2f}\")"
      ],
      "execution_count": 35,
      "outputs": [
        {
          "output_type": "stream",
          "name": "stdout",
          "text": [
            "+----------+-----+\n",
            "|  category|label|\n",
            "+----------+-----+\n",
            "|Technology|  0.0|\n",
            "|    Sports|  3.0|\n",
            "|   Finance|  2.0|\n",
            "|  Politics|  1.0|\n",
            "+----------+-----+\n",
            "\n",
            "+--------------------------------------------------------------------+----------+----------+\n",
            "|text                                                                |category  |prediction|\n",
            "+--------------------------------------------------------------------+----------+----------+\n",
            "|Machine learning has revolutionized the way data is processed       |Technology|0.0       |\n",
            "|The president addressed the nation in a live broadcast              |Politics  |2.0       |\n",
            "|Machine learning has revolutionized the way data is processed       |Technology|0.0       |\n",
            "|Political campaigns are gearing up for the upcoming elections       |Politics  |1.0       |\n",
            "|The Formula 1 race track is set to host the next grand prix         |Sports    |3.0       |\n",
            "|Financial experts are advising on diversifying investment portfolios|Finance   |1.0       |\n",
            "+--------------------------------------------------------------------+----------+----------+\n",
            "\n",
            "TF-IDF Model Accuracy: 0.67\n"
          ]
        }
      ]
    },
    {
      "cell_type": "code",
      "metadata": {
        "colab": {
          "base_uri": "https://localhost:8080/"
        },
        "id": "a6d20c89",
        "outputId": "a743b0bd-3d1c-4e99-d042-a9f4564f0672"
      },
      "source": [
        "df.select(\"category\", \"label\").distinct().show()"
      ],
      "execution_count": 36,
      "outputs": [
        {
          "output_type": "stream",
          "name": "stdout",
          "text": [
            "+----------+-----+\n",
            "|  category|label|\n",
            "+----------+-----+\n",
            "|Technology|  0.0|\n",
            "|    Sports|  3.0|\n",
            "|   Finance|  2.0|\n",
            "|  Politics|  1.0|\n",
            "+----------+-----+\n",
            "\n"
          ]
        }
      ]
    },
    {
      "cell_type": "code",
      "metadata": {
        "colab": {
          "base_uri": "https://localhost:8080/"
        },
        "id": "e3de47e6",
        "outputId": "eb59dae6-c98a-459f-a514-98b6fb93824e"
      },
      "source": [
        "from pyspark.ml.feature import Word2Vec # Import Word2Vec here\n",
        "word2Vec = Word2Vec(vectorSize=100, minCount=1, inputCol=\"lemmatized_words\", outputCol=\"featuresW2Vector\")\n",
        "word2Vec_model = word2Vec.fit(df)\n",
        "df = word2Vec_model.transform(df)\n",
        "\n",
        "df.select(\"text\", \"featuresW2Vector\").show(truncate=False)"
      ],
      "execution_count": 37,
      "outputs": [
        {
          "output_type": "stream",
          "name": "stdout",
          "text": [
            "+-----------------------------------------------------------------------+----------------------------------------------------------------------------------------------------------------------------------------------------------------------------------------------------------------------------------------------------------------------------------------------------------------------------------------------------------------------------------------------------------------------------------------------------------------------------------------------------------------------------------------------------------------------------------------------------------------------------------------------------------------------------------------------------------------------------------------------------------------------------------------------------------------------------------------------------------------------------------------------------------------------------------------------------------------------------------------------------------------------------------------------------------------------------------------------------------------------------------------------------------------------------------------------------------------------------------------------------------------------------------------------------------------------------------------------------------------------------------------------------------------------------------------------------------------------------------------------------------------------------------------------------------------------------------------------------------------------------------------------------------------------------------------------------------------------------------------------------------------------------------------------------------------------------------------------------------------------------------------------------------------------------------------------------------------------------------------------------------------------------------------------------------------------------------------------------------------------------------------------------------------------------------------------------------------------------------------------------------------------------------------+\n",
            "|text                                                                   |featuresW2Vector                                                                                                                                                                                                                                                                                                                                                                                                                                                                                                                                                                                                                                                                                                                                                                                                                                                                                                                                                                                                                                                                                                                                                                                                                                                                                                                                                                                                                                                                                                                                                                                                                                                                                                                                                                                                                                                                                                                                                                                                                                                                                                                                                                                                                                                                        |\n",
            "+-----------------------------------------------------------------------+----------------------------------------------------------------------------------------------------------------------------------------------------------------------------------------------------------------------------------------------------------------------------------------------------------------------------------------------------------------------------------------------------------------------------------------------------------------------------------------------------------------------------------------------------------------------------------------------------------------------------------------------------------------------------------------------------------------------------------------------------------------------------------------------------------------------------------------------------------------------------------------------------------------------------------------------------------------------------------------------------------------------------------------------------------------------------------------------------------------------------------------------------------------------------------------------------------------------------------------------------------------------------------------------------------------------------------------------------------------------------------------------------------------------------------------------------------------------------------------------------------------------------------------------------------------------------------------------------------------------------------------------------------------------------------------------------------------------------------------------------------------------------------------------------------------------------------------------------------------------------------------------------------------------------------------------------------------------------------------------------------------------------------------------------------------------------------------------------------------------------------------------------------------------------------------------------------------------------------------------------------------------------------------+\n",
            "|Cloud computing is becoming increasingly important for businesses      |[-4.1783070385766524E-4,7.970031583681703E-5,-0.0012389668554533273,-0.0016574165395771463,-0.0017341170945049573,4.2948122912396985E-4,-8.568448198881621E-4,0.0014436893652600702,4.0705447706083453E-4,7.224691022808353E-4,5.223694558177764E-4,-1.63666735412941E-4,-0.0014029929686027267,2.3214734877304483E-4,-6.781338306609541E-4,-0.0012444855334858098,0.0010954910540021956,0.0011374492023605853,-8.063510564776758E-4,0.001320588809903711,0.0012515406512344875,-2.0744293578900397E-5,4.5263817204007254E-5,-0.001079399517038837,2.0485395604434112E-4,0.0012484717299230397,0.0021244713570922613,0.002436111157294363,4.378948360681534E-4,8.370341784029733E-4,0.00108614379617696,0.002409295256560047,4.8380153020843863E-4,7.688262849114835E-5,-4.286134693150719E-4,-0.001025534215538452,-0.0019480756503374626,-0.0024317450637075426,-7.599461823701859E-4,-5.81287119227151E-4,0.0014050914129863181,-0.001059502460217724,1.6798761498648673E-4,-0.001744753508925593,-6.582986243302003E-4,-5.9415183689755694E-5,-0.0012171271179492273,-6.919201744797949E-4,4.6162478929545614E-4,-2.445513673592359E-4,2.4393668354605325E-5,9.25286381971091E-4,0.0012852430081693456,0.0028142276326737674,4.162719026984026E-4,0.0017315541335847229,0.001344183401670307,3.772684115877685E-4,0.0016517543699592352,4.204563447274268E-5,4.1470497186916566E-4,0.0014465698623098433,-8.296892823030551E-4,-4.864238338389744E-4,-1.612653334935506E-4,-5.767907035381843E-4,8.697477945437033E-4,4.797848605448962E-4,-2.756427275016904E-4,-7.168981634701291E-4,3.256773197790608E-4,0.0013144842038551965,-4.1715711510429776E-4,-0.0016281825034335875,-7.941260191728361E-4,-4.610410348201791E-4,-0.0024554022529628128,-5.41578415626039E-4,0.0018894144159276038,-1.8017761370477575E-4,7.729720479498307E-4,-5.552576816019912E-4,1.2366985902190208E-4,-0.0010824962373590097,-9.344205900561064E-4,-1.8312932418969768E-4,-9.988983219955117E-4,6.124797218944877E-4,0.002100533398333937,-6.818557288473432E-4,0.002137427339524341,-0.002695870934985578,-5.626585795350062E-4,0.0013702438833812871,-6.486216152552515E-4,-4.672199526491264E-4,8.302384715837736E-4,-0.0015225574704042324,0.0015193063639647637,-9.151095970689008E-4]         |\n",
            "|Basketball players are preparing for the next tournament               |[-6.764447083696724E-4,-1.225575979333371E-4,0.0012492284935433418,0.001688696607016027,8.003931201528759E-4,0.0015179160283878446,-7.882907204475487E-4,-2.6701097376644615E-4,-4.50853246729821E-4,-8.858166169375182E-4,0.00122310861479491,4.1047277627512816E-4,1.5171183986240067E-4,-0.00226212638663128,-8.139876008499414E-5,2.3829512647353113E-4,4.5965048484504224E-4,2.8351935907267037E-5,1.7311184783466162E-4,4.330955678597093E-4,5.432726087747142E-4,-8.526532910764217E-4,5.335403606295585E-4,2.232379047200084E-5,-0.0028510300675407053,0.002146841725334525,7.506044348701835E-4,-0.0011804139008745552,0.001005543558858335,4.008924122899771E-4,-1.7735119909048083E-4,3.6786710843443875E-4,-0.002376767294481397,-0.0013780247081740526,-6.506853009341286E-4,5.300253687892109E-4,-0.00200155396014452,0.002706185868009925,0.0011540136401890777,4.3469700176501647E-4,7.552121460321359E-4,0.0013825064525008202,4.5016302319709215E-4,-3.983421775046736E-4,-0.0010460547782713547,-0.0024879760341718796,-0.0030385707861569247,0.0016040208050981165,1.874501002021134E-4,-8.234245236963035E-4,-0.0012016840977594257,0.0013943996862508358,0.003064045289920614,6.7811859480571E-5,-0.0018547815911006183,-2.000896609388292E-4,-0.001987354776065331,-0.0020722248271340506,-8.617862593382598E-4,8.598705055192113E-4,-7.350750267505646E-4,0.0017817075829952957,0.002253839239710942,0.0010153898707358168,0.0017911685201397632,-0.001369509828509763,0.0024005264742299917,-7.291775102203247E-4,-0.0011325143750582356,8.87231552042067E-4,-0.0010669701092410834,0.001272719688131474,-9.005304425954819E-4,8.72423266991973E-4,3.948034485802055E-4,3.55603380012326E-4,-4.3531336705200375E-4,1.986464485526085E-6,2.2108256816864014E-4,-8.529512939276174E-4,-6.232951272977516E-4,1.728878472931683E-4,-0.001056831266032532,9.830825263634324E-4,-2.978297299705446E-4,9.866391075775028E-4,-6.4492158126086E-4,5.468129529617727E-4,7.210996809590142E-4,3.4279532264918093E-4,0.0023113594368624037,4.095972282812E-4,-0.0019129891647025944,-9.751312667503954E-4,0.0017099951510317624,2.571230405010283E-4,-3.0107989805401304E-4,-9.60578169906512E-4,0.0017755932174623014,-0.0014829839026788251]                             |\n",
            "|Machine learning has revolutionized the way data is processed          |[-0.002020994138244229,-5.844127299496904E-4,0.0017854103449887284,3.236923657823354E-4,-0.0010487092658877373,-0.001012218915396564,0.001530607589908565,8.985464616368214E-4,0.001929939030863655,-0.0010921408926757672,-6.277546126511879E-4,-0.0014545992501856138,-7.205390841894161E-4,-3.5662994923768565E-4,-4.34115958341863E-4,-7.491954602301121E-4,5.969747241276006E-4,-2.6711102691479027E-4,-0.0013442960504714088,5.882307305000722E-4,0.0010757715499494225,-3.2850247710788E-5,3.758418606594205E-4,-0.0010115936553726592,0.001377463289827574,0.0015661866054870188,-0.0019951085365998247,-0.002242681089531591,-4.988220947173734E-4,-9.638736216099156E-4,-6.86629597718517E-4,0.0012840602576034144,9.081312358224143E-4,0.0014220387189804264,6.057496211724356E-4,-6.656507175648585E-4,0.0011488256762580324,0.0012359582275773087,-7.134086336009204E-4,3.519089780941916E-4,-0.0010582221439108253,-4.201634437777102E-4,0.001578835399413947,0.0014733252270768085,-1.4782638754695654E-4,-0.001311829798699667,5.866108986083418E-4,-0.0020626031049080966,1.2201140634715557E-4,0.0020620360737666488,0.0020074448936308422,-8.583596985166271E-4,-3.7559972164065886E-4,0.0016593319305684417,0.0015987914521247149,0.0011675808927975595,0.0012035394320264459,8.858317354073127E-5,0.0019779592015159624,-0.0018991924201448758,0.0021310863473142185,0.001991627834892521,0.0028839206740182513,0.0013799666388270755,-0.001450990709903029,-1.0142199850330749E-4,-9.887993898397932E-5,-0.0012337912048678845,-0.001815970210979382,-3.9431073916299886E-4,-5.477887267867724E-4,0.0010068655925958105,0.0012898250521781542,-6.032855477921354E-4,-9.040907607413828E-4,3.4223656984977424E-4,-0.0014307561893171319,5.491012076769645E-4,8.939887266024016E-7,9.423396477359347E-4,8.881881173389653E-4,-0.002270445964920024,-0.0012896095868200064,3.660571140547593E-4,0.0017252300604013726,-0.0011390898253011983,-5.440314950343842E-4,-1.7080629186239094E-4,-5.792918188186983E-4,-3.4102706316237647E-4,-3.7489221237289407E-5,0.0016139420234442998,8.055745517291749E-5,0.001710182725219056,-0.001552373287267983,-7.787424450119336E-5,-8.281731376579652E-4,1.850702780454109E-4,-0.0018226120349330206,3.4138696112980442E-6]   |\n",
            "|Political campaigns are gearing up for the upcoming elections          |[9.8086231155321E-4,-0.0015743950731121005,-0.002516714902594686,-5.399638554081321E-4,0.0018748496542684734,-0.0013387154554948212,0.0014858960174024107,-0.0017945711442735046,5.525406682863832E-4,-0.0014910939149558545,-0.0013040746009210125,3.5708234645426276E-5,-7.078189577441663E-4,-2.47297459281981E-4,0.0011821577092632652,-4.896337137324736E-4,8.26554256491363E-4,6.973789364565164E-4,5.390080390498042E-4,-0.0023611026350408796,-0.001496496144682169,5.096654407680034E-4,-4.569749580696225E-4,-2.1754571935161948E-4,5.26363542303443E-4,-0.002105103840585798,-6.14776834845543E-4,-0.00100730680860579,-4.4272302184253934E-4,-2.084161387756467E-5,0.0021594660822302106,-1.3519590720534325E-4,4.5776773513352966E-4,-0.0012319654924795032,9.94371995329857E-4,8.932839613407851E-4,0.001957701030187309,-0.0028666491038165987,-0.001967256749048829,-4.873554920777679E-4,-6.052790238754824E-4,-0.0024525723885744813,-3.3570638042874635E-4,0.002515548816882074,4.962340230122208E-4,-9.114895947277547E-5,-3.394524217583239E-4,-1.8743689870461824E-4,3.518380399327725E-4,1.9330019131302834E-4,-7.03787268139422E-4,-7.339709205552936E-4,0.002251385134877637,-8.512752363458276E-4,0.001781630888581276,-5.992130842059851E-4,-0.0031785935163497927,0.0021819732850417496,-6.875733379274607E-4,5.44057518709451E-4,0.001402308396063745,5.723004462197423E-4,4.0775883244350555E-4,-5.532888637389988E-4,0.0023244996555149555,1.2222736258991063E-4,-0.0010066310118418188,0.0024051021900959313,-0.0018066411663312466,-8.75640637241304E-4,0.001592609437648207,-5.977880442515016E-4,-0.0018988273339346053,-0.002090377314016223,3.2615849631838505E-4,-7.043408346362412E-4,-0.0012624516850337387,-4.121812526136637E-5,0.0015174372121691704,2.6236940175294876E-4,0.0012510296190157534,-0.0022621505762799644,5.061026662588119E-4,5.647152755955176E-4,-0.0011195410043001175,9.658694267272949E-4,7.508914335630835E-4,0.002233863224682864,0.003117608465254307,-0.001010038796812296,-0.0018115350689186017,-0.0029491885798051953,-8.235081564635039E-4,2.1402923157438637E-4,2.473000713507645E-4,-8.264402276836336E-6,-0.0015480875677894802,-0.0021418360876850786,-8.615939179435373E-4,-0.001041908422484994]           |\n",
            "|The football team has been training hard for the upcoming season       |[-9.522177570033818E-4,7.313288612446437E-4,-0.0010426112445808635,0.0010572817797462144,3.416786397186418E-4,-8.000915210383633E-4,4.829363121340672E-4,-6.324504405104865E-5,-8.173692864753926E-4,-0.0018209403109115858,-0.001177286544892316,-6.234446967331071E-5,-1.875640785632034E-4,-7.489402196370065E-4,0.0010890737879284036,0.001058395622142901,-0.0023311398496540883,-0.0017773065871248641,-5.02454349771142E-5,-4.234455215434233E-4,-5.587407479955193E-4,-3.740522952284664E-4,7.507508950463185E-4,0.001422337127830057,0.0021838644752278924,4.0660541465816397E-4,-0.0011502969233940044,-8.547324299191434E-4,0.0014340114624549944,7.760890390879164E-4,0.0013203609269112349,6.318783707683906E-4,6.244945446572576E-4,2.48712186779206E-4,1.6303692245855927E-4,-4.955548016975323E-4,8.844941815671821E-4,8.609834379361321E-4,-0.0011597613338381052,5.59915128784875E-4,7.250680937431753E-5,3.719163748125235E-4,-0.0014363035249213376,-0.0013466167188198597,9.481182399516304E-4,0.0023892320653734105,1.9863346521257577E-4,-0.0012574356708986063,0.0011783595158097644,-3.480667364783585E-4,3.461946059057178E-4,-0.0015413453220389783,3.570419115324815E-4,-3.00189518990616E-6,0.0010099640348926187,-5.302550246900257E-4,-0.0011776045236426094,8.115706683990235E-4,-2.834276480522627E-4,0.0021910847863182425,-0.0010078588990533413,-3.987948293797672E-4,-0.0018902814481407404,-3.471054951660335E-4,1.7613589686031142E-4,-6.585946781948829E-4,-0.0023242951720021665,-5.691859308475007E-4,-0.001081480339053087,7.414855645038188E-4,0.0016118614475999493,3.7212288104152924E-4,-2.9878002048159637E-5,5.656793364323676E-4,4.6070124638693716E-4,-7.757610486199458E-4,0.002478170305645714,4.233997121142844E-4,8.93771667809536E-4,-0.0013226730976991044,-3.1337591402310255E-4,-0.0012111184041714296,0.0019142976185927787,3.0086844344623387E-4,-0.0011407192456924045,-0.0019971875832804167,0.0014585869745739424,0.002412167435977608,1.2476878813079867E-4,-9.624783924664371E-4,-9.064982247461254E-4,1.7128250813887763E-4,1.1740049618917206E-4,-3.2108304246018327E-4,0.0013406189427769277,-4.217727982904762E-4,-4.843329467500249E-4,-0.001076418258890044,-0.0013511092111002654,1.492142134035627E-4]        |\n",
            "|International relations are being discussed in diplomatic meetings     |[0.0011595609073992818,-7.498934864997864E-4,0.0016362423542886973,1.2064732145518066E-4,0.0017407691339030862,2.738862065598369E-4,0.0018872514716349543,1.5067635104060173E-4,0.0014679657761007547,-0.0014844932476989925,9.847525507211686E-6,-0.0014878256013616921,-0.001177013572305441,0.0010055869352072477,-0.0017340962251182646,8.10830551199615E-4,3.838593838736415E-4,8.185974584193901E-5,-6.267699762247503E-4,2.1376092918217184E-4,8.748138207010925E-4,-6.427112501114608E-4,0.0010266749537549914,-2.87360302900197E-4,9.336670918855816E-4,-5.239482736214996E-4,-7.64512288151309E-4,-1.2757155927829445E-4,-8.439064491540194E-4,4.1896649636328224E-4,1.220828387886286E-4,0.002200950717087835,-0.002122993196826428,1.464105909690261E-4,1.8262098310515285E-4,0.0012260242307092996,0.001629514415981248,5.861296085640788E-4,-9.048207779414953E-4,2.936573640909046E-4,-7.827155990526081E-4,-0.0017215601226780565,0.00202164693037048,0.0016287609934806824,3.124709037365392E-5,-0.002081446349620819,2.100765705108643E-5,0.0016632486949674785,-8.870143617969007E-4,-6.58942188601941E-4,4.6574726729886606E-4,0.0010606286145048217,-5.508299364009872E-5,-8.12245300039649E-5,0.0015942460391670467,3.253154689446092E-4,0.0026286907959729433,1.815828960388899E-4,0.001182814780622721,2.4676835164427757E-4,3.0774432234466077E-4,0.0034129562554880977,8.142102917190642E-4,-3.68385436013341E-4,-0.0028299108962528408,0.0016280776588246228,3.714972408488393E-4,2.9136098455637697E-4,0.0020052089588716627,-3.2355007715523246E-5,-8.008791599422694E-4,-4.0022063767537476E-4,-1.8958537839353085E-4,-0.001440918177831918,-5.86793664842844E-4,-9.785563102923335E-4,-6.470811960753054E-4,7.879968907218426E-4,3.585522063076496E-4,0.0037364574149250985,3.067031131649856E-4,0.003161371854366735,4.4922379311174154E-4,8.035585597099271E-4,0.001533142407424748,0.0016638528439216317,-1.9074068404734135E-6,-0.001827997318468988,4.8640812747180465E-5,-7.400775095447898E-4,-0.0013186910480726512,-0.0023375697899609806,5.110306665301323E-5,-0.0011177850625244902,0.0023129509296268224,-0.001106942055048421,-6.904598558321595E-4,0.0013887979905121029,8.289451943710446E-5,0.002032523415982723]                        |\n",
            "|The president addressed the nation in a live broadcast                 |[-5.632379208691419E-4,-5.764144472777844E-4,1.7855016048997643E-4,6.157551892101766E-4,-7.399564899969847E-4,8.318365318700672E-4,0.0014730409253388645,-0.0014508147491142155,5.722302012145519E-4,0.0010037519412435358,-4.4114757329225543E-4,-9.10233031027019E-4,2.848035888746381E-4,-4.0571013232693076E-4,-1.5115549322217703E-4,2.895233774324879E-4,8.868517354130745E-4,-0.00265761218033731,4.4460994249675425E-4,0.001301218243315816,-7.3432587669231E-4,0.0012758901048073312,-9.401679155416787E-4,-7.161288696806878E-4,-0.002169306296855211,0.0019109732704237104,-0.001144516165368259,0.0017410275235306472,-1.3175359054002912E-4,-6.592463701963425E-4,-4.095156560651958E-4,0.0010201516401139089,0.002265440413611941,0.002548335632309318,-0.001905928459018469,-0.00193842020817101,7.190228905528784E-4,-8.247178047895432E-4,7.302496465854347E-4,-0.0010266570374369622,0.001138524617999792,5.944048636592925E-4,9.217585902661086E-5,0.0018148609044146724,-0.0012234167894348503,0.003132977557834238,-0.0014602491399273278,8.314449223689735E-5,0.002773600502405316,-3.5493740579113365E-4,-8.097009451375925E-4,2.990553271956742E-4,-4.899972933344543E-4,4.520359914749861E-4,-0.0020476544334087523,-6.893120094900951E-4,7.203024229966104E-4,-0.0021254222956486046,-0.0013347765430808069,1.753998571075499E-4,0.001055252877995372,3.708358854055405E-5,-3.0666870807181116E-4,-4.594094411004335E-4,3.161991655360908E-4,0.0018700118875131012,0.001590712880715728,3.796437988057733E-4,5.132639082148672E-4,5.740954075008631E-5,-2.0161222200840712E-4,0.0013878561090677978,-6.449163425713778E-4,8.244714001193643E-4,-8.89909453690052E-4,5.997883388772608E-4,-0.0021549947559833527,0.001200956723187119,-0.0010411435418063776,9.739193774294108E-4,0.0020784259540960193,0.0025342202396132054,8.044142567086965E-4,-9.812340955249966E-4,-5.354466149583459E-4,0.0016178070916794242,3.381533169886097E-5,-5.080120172351599E-6,9.353034896776081E-4,-6.284830858930946E-4,0.0018594664987176658,-8.76112945843488E-4,-7.99307314446196E-4,-8.217206981498749E-4,-0.0013897555181756616,7.355282315984369E-4,6.494236295111477E-4,9.337517112726346E-4,7.560739410109818E-4,0.0012152678973507136]                             |\n",
            "|Tennis players are practicing for the grand slam matches               |[-9.800644183997065E-4,-3.96457786943453E-4,1.9903321905682483E-4,-0.0015857248896888145,0.001572990746353753,0.0010684061077578613,-2.099311095662415E-4,-6.150223659157442E-4,0.0019329256222893794,-4.8061658071674174E-4,0.001999440709672247,6.92883818980287E-4,-0.001393558932856346,0.0012620471340293684,2.0236433920217678E-4,-5.139106457742552E-4,-2.0186271285638213E-4,-0.0017781762192801882,0.001177736868460973,-8.766920266983409E-4,0.0010274169811358054,2.637064826558344E-4,0.0010045663511846215,5.351678313066561E-4,-4.3973087061507005E-4,0.0014521862321998924,-8.944849857167961E-4,0.0021982141139839464,-0.00146810991767173,3.574888687580824E-4,-6.564745275075741E-4,-2.924866178849091E-4,-7.899194800605376E-5,-0.0014714351758205642,9.374947209532061E-5,5.689228419214487E-4,-0.0014644112864819665,0.0010227663830543556,2.0551454508677125E-4,4.791200832793644E-4,-0.0020533947778555253,-0.002062398203027745,3.852063091471791E-4,9.413347773564358E-4,-5.9968105536730335E-5,0.0012431866101299722,-2.5268865677693003E-4,-5.500711461839576E-4,-0.0013468787995710347,7.346884861666088E-5,-2.52052394595618E-4,-8.8958790244457E-4,-7.798692677170038E-4,0.0023956497801312553,-3.9172937007000047E-4,-0.0011253011665151764,-0.0022461101616499946,0.001075781365216244,7.237208289249489E-4,-0.001447377949565028,-2.3914243017012873E-4,0.0011892496064926186,-0.0014341626636754274,-6.230407501182829E-4,1.5201229446878034E-4,-7.21929057969343E-4,-0.0013033809567180772,-6.168184888034981E-4,0.0016580205604744454,4.1116285137832165E-4,-0.0015451636791112833,3.4300882058839E-5,7.492457225453109E-4,-6.1565369833260775E-6,0.002031917373339335,-0.0014285924892950181,9.465590604425718E-5,0.0011516107867161431,-0.0016717727994546294,1.6134387260535732E-4,-0.002077710550414243,-6.922435932210647E-5,7.831395196262747E-4,0.002327979154263933,8.123293907071153E-4,0.001507766472059302,-8.829002084288125E-4,-2.1544965178084868E-4,-5.417429110821104E-4,7.733693109912565E-4,-0.0019930429546851274,0.0028335176515004905,8.48387765775745E-4,-0.0025031157808067897,0.0010399842091525593,-2.1277683602723602E-4,7.05680208435903E-4,5.000090944425513E-4,0.001957421889528632,-0.0011611273900295296]            |\n",
            "|Machine learning has revolutionized the way data is processed          |[-0.002020994138244229,-5.844127299496904E-4,0.0017854103449887284,3.236923657823354E-4,-0.0010487092658877373,-0.001012218915396564,0.001530607589908565,8.985464616368214E-4,0.001929939030863655,-0.0010921408926757672,-6.277546126511879E-4,-0.0014545992501856138,-7.205390841894161E-4,-3.5662994923768565E-4,-4.34115958341863E-4,-7.491954602301121E-4,5.969747241276006E-4,-2.6711102691479027E-4,-0.0013442960504714088,5.882307305000722E-4,0.0010757715499494225,-3.2850247710788E-5,3.758418606594205E-4,-0.0010115936553726592,0.001377463289827574,0.0015661866054870188,-0.0019951085365998247,-0.002242681089531591,-4.988220947173734E-4,-9.638736216099156E-4,-6.86629597718517E-4,0.0012840602576034144,9.081312358224143E-4,0.0014220387189804264,6.057496211724356E-4,-6.656507175648585E-4,0.0011488256762580324,0.0012359582275773087,-7.134086336009204E-4,3.519089780941916E-4,-0.0010582221439108253,-4.201634437777102E-4,0.001578835399413947,0.0014733252270768085,-1.4782638754695654E-4,-0.001311829798699667,5.866108986083418E-4,-0.0020626031049080966,1.2201140634715557E-4,0.0020620360737666488,0.0020074448936308422,-8.583596985166271E-4,-3.7559972164065886E-4,0.0016593319305684417,0.0015987914521247149,0.0011675808927975595,0.0012035394320264459,8.858317354073127E-5,0.0019779592015159624,-0.0018991924201448758,0.0021310863473142185,0.001991627834892521,0.0028839206740182513,0.0013799666388270755,-0.001450990709903029,-1.0142199850330749E-4,-9.887993898397932E-5,-0.0012337912048678845,-0.001815970210979382,-3.9431073916299886E-4,-5.477887267867724E-4,0.0010068655925958105,0.0012898250521781542,-6.032855477921354E-4,-9.040907607413828E-4,3.4223656984977424E-4,-0.0014307561893171319,5.491012076769645E-4,8.939887266024016E-7,9.423396477359347E-4,8.881881173389653E-4,-0.002270445964920024,-0.0012896095868200064,3.660571140547593E-4,0.0017252300604013726,-0.0011390898253011983,-5.440314950343842E-4,-1.7080629186239094E-4,-5.792918188186983E-4,-3.4102706316237647E-4,-3.7489221237289407E-5,0.0016139420234442998,8.055745517291749E-5,0.001710182725219056,-0.001552373287267983,-7.787424450119336E-5,-8.281731376579652E-4,1.850702780454109E-4,-0.0018226120349330206,3.4138696112980442E-6]   |\n",
            "|Stock trading has become a popular way to build wealth                 |[-0.0017340481068198901,-0.0014156000854979667,-9.570164672498191E-4,-8.784083724354526E-4,-2.3996287823787755E-4,-8.839981663706047E-4,2.8576605421091827E-4,-3.602483442851475E-4,2.901679399656132E-4,-5.284768703859299E-4,0.0011612852233936011,9.737478935026696E-5,-2.325807207463575E-4,9.886898333206773E-4,7.968389296105929E-5,-5.282025085762143E-4,-4.399808481788828E-4,-2.40541020632788E-4,6.759550326803167E-4,-4.388281709647604E-4,0.0018709105705576282,0.0012129659797730189,-0.0011169928153062106,-4.656047427228518E-5,9.095148468207168E-4,-0.0022956456190773417,-3.413465405433921E-4,-0.0013106190890539438,-0.0017229278704949786,-4.4846644492021624E-4,-5.953473155386746E-4,3.487837966531515E-5,4.6900561678090265E-4,-0.002153669696001868,5.4175782549594124E-5,3.4298487922309766E-4,-2.392184521470751E-4,7.153434146727834E-4,-0.0018060888874710404,-0.0025763407091809703,-4.264925503645957E-4,-0.001392321810791535,-5.65839501047906E-4,0.003518727125733026,0.0025194258196279407,-0.0011007070050774407,-0.0021010716944666846,-0.002242116080846504,7.430961954274347E-4,-3.1831823954624785E-5,-5.652856031831886E-4,0.0023371827056897537,-0.0016533916142569588,0.0021183798297507955,-6.160202236579997E-4,7.916155071663005E-4,-4.223645248982523E-4,0.0018347346038873572,0.0012321905731888752,-5.8432749938219786E-5,-0.0016470699088781007,7.71104491182736E-4,-6.857079071258859E-4,0.00111243428961773,3.9156523416750133E-4,0.001039219504621412,8.987114498657839E-4,-0.0016373498115821608,-0.0025194430366225007,-4.354703040527446E-5,4.88289024880422E-4,0.002804235156093325,5.957592230905512E-4,5.571478478876607E-5,-9.560071464095796E-4,0.0011053543171978422,-7.379343650037688E-4,-4.99470458765115E-5,8.499756222590804E-4,-9.011830469327313E-4,-0.0018670560654884736,-6.590750246167382E-4,2.6017274441463603E-4,-5.806130845615241E-4,7.322867313632742E-4,3.715306333365983E-5,1.8956022852632614E-4,7.011533234617673E-4,-9.957330746276835E-4,7.515781669228869E-4,-0.001288677316292056,0.0018450360013438122,-5.070997618271836E-4,2.950891586286681E-4,-0.0011429848631710879,-9.265373519156128E-4,2.339086162724665E-4,0.0013641571401551897,-1.3146702466266494E-4,-9.549891443124839E-4]          |\n",
            "|5G technology is expected to significantly improve communication speeds|[9.782780460747223E-4,0.0015767720760777593,9.554636749921233E-4,5.323111462140721E-4,-0.001463691986698125,5.622703299325491E-5,0.0011119076599633054,-4.839015891775489E-4,-2.920733033014195E-4,-2.2114647435955703E-4,9.076714465793753E-4,-6.417342727737767E-4,9.449984479163373E-4,-3.940284451735871E-4,8.147077709769031E-4,9.317635558545589E-4,1.579017178820712E-4,2.832910810996379E-4,-0.0011055230861529708,7.377962215936609E-4,0.0020878054367910537,-7.447176488182906E-4,8.250148634293249E-4,-0.0010062240346867058,0.0012233435991220176,0.0014505110780841538,-6.746852710161225E-4,6.316895866932879E-5,-2.734123429815684E-4,3.751570724749139E-4,7.242396739976746E-4,7.560512583170617E-4,0.0018876135415796722,0.0013761305682627217,1.4609868438648325E-4,9.878932448503161E-4,0.001273280442027109,0.001984946529514023,-0.0026228044132169865,9.211588517895766E-4,-1.9848536300872053E-4,-2.3292888571242135E-4,-1.9296787961918326E-4,-3.369628518287624E-4,-0.002395110163238964,1.351136015728116E-4,-6.138226682586329E-4,-0.0010168535435306173,-2.9535219904833606E-4,-0.002735437688118379,0.0011736015834945387,-7.606151630170643E-4,0.001109868889865798,-0.0018524398910813034,-0.0017108162199812274,-0.0019748177312846693,0.001920721722334357,-5.209163978828915E-4,-6.237557931204459E-4,4.186644717784864E-4,-0.0015634401268990975,-0.0028864575017775807,-8.762378378638199E-5,-0.0013389526019247048,7.877806118423385E-4,-0.0015118969438065375,0.0011538430865454885,-0.0019229160077104876,0.0012156154095594371,-0.0017541382362001707,-1.3455304516745464E-4,5.631422204065269E-4,3.42714596107336E-4,-7.242954494098999E-4,-0.0011116673704236746,2.5768998187101844E-5,4.2558792795586797E-4,5.288475159821765E-4,-8.642709913796612E-4,7.393830559781885E-4,-1.6520610162323074E-4,3.67666532318773E-4,9.169430039556963E-4,-2.5246200467725946E-4,2.191581796588642E-4,2.5169401695685726E-4,-1.372791510740561E-4,0.0015987757942639291,-0.001306107930888954,0.0025056150292844643,-9.82171378771974E-4,-7.286050822585821E-4,2.6149459050170014E-4,-6.485500489361584E-5,0.0019190819792649042,-8.722286771184631E-4,-3.6895172005253177E-4,-2.2817132412455976E-4,6.761240157564835E-4,2.8020532564758984E-4]           |\n",
            "|Political campaigns are gearing up for the upcoming elections          |[9.8086231155321E-4,-0.0015743950731121005,-0.002516714902594686,-5.399638554081321E-4,0.0018748496542684734,-0.0013387154554948212,0.0014858960174024107,-0.0017945711442735046,5.525406682863832E-4,-0.0014910939149558545,-0.0013040746009210125,3.5708234645426276E-5,-7.078189577441663E-4,-2.47297459281981E-4,0.0011821577092632652,-4.896337137324736E-4,8.26554256491363E-4,6.973789364565164E-4,5.390080390498042E-4,-0.0023611026350408796,-0.001496496144682169,5.096654407680034E-4,-4.569749580696225E-4,-2.1754571935161948E-4,5.26363542303443E-4,-0.002105103840585798,-6.14776834845543E-4,-0.00100730680860579,-4.4272302184253934E-4,-2.084161387756467E-5,0.0021594660822302106,-1.3519590720534325E-4,4.5776773513352966E-4,-0.0012319654924795032,9.94371995329857E-4,8.932839613407851E-4,0.001957701030187309,-0.0028666491038165987,-0.001967256749048829,-4.873554920777679E-4,-6.052790238754824E-4,-0.0024525723885744813,-3.3570638042874635E-4,0.002515548816882074,4.962340230122208E-4,-9.114895947277547E-5,-3.394524217583239E-4,-1.8743689870461824E-4,3.518380399327725E-4,1.9330019131302834E-4,-7.03787268139422E-4,-7.339709205552936E-4,0.002251385134877637,-8.512752363458276E-4,0.001781630888581276,-5.992130842059851E-4,-0.0031785935163497927,0.0021819732850417496,-6.875733379274607E-4,5.44057518709451E-4,0.001402308396063745,5.723004462197423E-4,4.0775883244350555E-4,-5.532888637389988E-4,0.0023244996555149555,1.2222736258991063E-4,-0.0010066310118418188,0.0024051021900959313,-0.0018066411663312466,-8.75640637241304E-4,0.001592609437648207,-5.977880442515016E-4,-0.0018988273339346053,-0.002090377314016223,3.2615849631838505E-4,-7.043408346362412E-4,-0.0012624516850337387,-4.121812526136637E-5,0.0015174372121691704,2.6236940175294876E-4,0.0012510296190157534,-0.0022621505762799644,5.061026662588119E-4,5.647152755955176E-4,-0.0011195410043001175,9.658694267272949E-4,7.508914335630835E-4,0.002233863224682864,0.003117608465254307,-0.001010038796812296,-0.0018115350689186017,-0.0029491885798051953,-8.235081564635039E-4,2.1402923157438637E-4,2.473000713507645E-4,-8.264402276836336E-6,-0.0015480875677894802,-0.0021418360876850786,-8.615939179435373E-4,-0.001041908422484994]           |\n",
            "|Machine learning has revolutionized the way data is processed          |[-0.002020994138244229,-5.844127299496904E-4,0.0017854103449887284,3.236923657823354E-4,-0.0010487092658877373,-0.001012218915396564,0.001530607589908565,8.985464616368214E-4,0.001929939030863655,-0.0010921408926757672,-6.277546126511879E-4,-0.0014545992501856138,-7.205390841894161E-4,-3.5662994923768565E-4,-4.34115958341863E-4,-7.491954602301121E-4,5.969747241276006E-4,-2.6711102691479027E-4,-0.0013442960504714088,5.882307305000722E-4,0.0010757715499494225,-3.2850247710788E-5,3.758418606594205E-4,-0.0010115936553726592,0.001377463289827574,0.0015661866054870188,-0.0019951085365998247,-0.002242681089531591,-4.988220947173734E-4,-9.638736216099156E-4,-6.86629597718517E-4,0.0012840602576034144,9.081312358224143E-4,0.0014220387189804264,6.057496211724356E-4,-6.656507175648585E-4,0.0011488256762580324,0.0012359582275773087,-7.134086336009204E-4,3.519089780941916E-4,-0.0010582221439108253,-4.201634437777102E-4,0.001578835399413947,0.0014733252270768085,-1.4782638754695654E-4,-0.001311829798699667,5.866108986083418E-4,-0.0020626031049080966,1.2201140634715557E-4,0.0020620360737666488,0.0020074448936308422,-8.583596985166271E-4,-3.7559972164065886E-4,0.0016593319305684417,0.0015987914521247149,0.0011675808927975595,0.0012035394320264459,8.858317354073127E-5,0.0019779592015159624,-0.0018991924201448758,0.0021310863473142185,0.001991627834892521,0.0028839206740182513,0.0013799666388270755,-0.001450990709903029,-1.0142199850330749E-4,-9.887993898397932E-5,-0.0012337912048678845,-0.001815970210979382,-3.9431073916299886E-4,-5.477887267867724E-4,0.0010068655925958105,0.0012898250521781542,-6.032855477921354E-4,-9.040907607413828E-4,3.4223656984977424E-4,-0.0014307561893171319,5.491012076769645E-4,8.939887266024016E-7,9.423396477359347E-4,8.881881173389653E-4,-0.002270445964920024,-0.0012896095868200064,3.660571140547593E-4,0.0017252300604013726,-0.0011390898253011983,-5.440314950343842E-4,-1.7080629186239094E-4,-5.792918188186983E-4,-3.4102706316237647E-4,-3.7489221237289407E-5,0.0016139420234442998,8.055745517291749E-5,0.001710182725219056,-0.001552373287267983,-7.787424450119336E-5,-8.281731376579652E-4,1.850702780454109E-4,-0.0018226120349330206,3.4138696112980442E-6]   |\n",
            "|Investors are looking for high-yield bonds in the current market       |[7.886834355304018E-4,6.856031698892668E-4,0.001522089762147516,-9.493574149625297E-5,5.298985585492725E-4,-0.001434819947462529,1.472861331421882E-4,-6.692904086473087E-4,6.434332608478144E-4,-6.436383312878509E-4,-6.389199988916516E-4,-5.397223988741946E-5,-2.6680574713585276E-4,7.784819778559419E-4,0.0022767506986080357,9.903049843463425E-4,-0.002553835414194812,0.002266687302229305,0.0022016644943505526,-0.001146355806364833,-8.448507966628919E-4,0.0011644347105175257,-4.2203491708884633E-4,-4.3155615761255223E-4,-1.4234509581001475E-4,-0.0013333119374389448,-5.237406876403838E-4,0.0011190733833548923,-0.0013757957494817674,6.384209761260232E-4,-0.0016663522789410004,0.0013615951562921205,-6.356838033146535E-5,6.131865714754288E-4,1.37833480645592E-4,-1.1433368005479375E-4,0.0014811432968902711,-0.0010473639752793436,-2.0747149634795883E-4,5.375392890224854E-4,3.813985191906492E-5,1.4576033087602505E-4,-3.439749125391245E-4,0.0024603040947113186,0.001539058535854565,-0.0014603012144410361,-4.0094215849724907E-4,0.0013644440623465925,4.102941796494027E-4,-0.0012293554318603128,-4.5458271536820877E-4,0.002022907904271657,4.091336450073868E-5,-0.0015575265667090812,-8.293618157040328E-5,-0.0011235051206313074,0.0011618005616279938,-8.035019466963906E-4,-0.001885444663154582,-0.0010028934145035842,-0.0012997484033500464,-1.8376833759248257E-4,-0.001106194641276185,-0.0010838992481391565,0.0020379709312692285,0.001442223050010701,-4.938722122460604E-5,-6.694552042366315E-4,4.4545799998256064E-4,-1.936464492852489E-4,-0.001060144257886956,-8.722404600121081E-4,-7.701989573736985E-4,-0.0011122819766266425,5.520631675608456E-4,-3.786165859006966E-4,9.911005618050694E-4,-2.627581707201898E-4,9.308439136172334E-4,-0.0010628922270067656,-0.0011778090265579522,0.0010382805000214526,-3.9216304624763626E-4,0.0012278766371309757,-0.001480533139935384,0.0023046638913607844,7.835387805243954E-4,-2.4208191704625884E-4,2.776864663852999E-4,-7.120495235236982E-4,-2.792949671857059E-4,1.4482720871455967E-4,-3.441875063193341E-4,4.834730255727966E-5,-2.8747498678664363E-4,0.0010711471938217678,0.0016527810463837036,0.002126899973518448,0.0013646551330263415,0.0011665971930293986]|\n",
            "|Quantum computing holds promise for solving complex problems           |[-2.624303119124046E-4,-0.001153473792198513,5.550701088005942E-4,-6.127468158021136E-4,-1.8096052476071885E-4,-3.0608637358195016E-4,0.001457186835718208,6.049924164212175E-4,-3.367683758759605E-4,-2.977798327005335E-4,-3.559017620448555E-4,-3.2627664040774107E-4,-0.0010082644959246473,3.106529080209189E-4,-2.034289063885808E-4,-0.00139398590129401,-5.621133854479661E-4,-0.0011963819311599114,-3.156013803423515E-4,0.0021405523044190234,-4.3818199109019975E-5,0.001615169142106814,-2.719574632854866E-4,7.469120734770382E-4,9.81817055227501E-5,-3.246417535202844E-4,0.0011107998101838998,-1.5809853669322495E-4,-8.246367298332708E-4,-2.241881770065187E-4,-5.093884454774005E-4,0.0010747691589390992,7.446730201731303E-4,6.180702891599919E-4,-5.409777430551392E-4,-5.900591744908264E-4,-5.727166675829461E-4,9.465514948325497E-4,1.065619643278686E-4,-1.7125564928781905E-4,5.475544520387692E-4,-0.002494743010694427,-2.0851277492641072E-4,-0.001968258010622646,-0.002883936827337103,2.949978474394551E-4,0.0024013432100348704,0.001723117910192481,-7.533385859070611E-4,-0.002900572160017743,-4.5472741060491117E-4,-6.79276991702084E-4,8.129327657765576E-6,3.913389352549399E-4,-8.041212069136756E-5,-8.349058293138763E-4,0.001445171681033181,1.3859366923238016E-4,-3.7661475861178976E-4,4.3778863203312667E-4,-6.305665509509188E-4,-0.002059087955525943,0.0023774820937043323,0.002009569774340239,7.79305148171261E-4,-0.0013242356799310073,-1.7941854561546018E-4,-0.0013462626884575002,6.648024760319718E-4,0.0012868349190934428,-0.0011905860238974647,7.28421179311616E-4,9.075233247131109E-4,2.05469987122342E-4,-9.87208888026154E-4,3.8048428333630515E-4,-9.285103878937662E-4,-4.2489256676552547E-4,8.478280090327773E-5,0.0027134691065709505,0.0011445704897466514,3.4166396237976315E-4,-5.087290316753622E-4,7.394484294179295E-4,-6.87615480273962E-4,0.00202104304376657,-7.271826294267417E-4,-8.143659298574285E-4,0.0010860847874677607,0.0020865584124944037,0.0011773161739776176,-0.001894772086026413,0.0016756792236784738,4.6827045402356556E-4,-5.214960214548877E-4,-7.322555341358695E-5,-7.222010421433618E-4,-0.0014571054156736602,9.197476486276302E-5,-0.0012275865488585883]                 |\n",
            "|Cloud computing is becoming increasingly important for businesses      |[-4.1783070385766524E-4,7.970031583681703E-5,-0.0012389668554533273,-0.0016574165395771463,-0.0017341170945049573,4.2948122912396985E-4,-8.568448198881621E-4,0.0014436893652600702,4.0705447706083453E-4,7.224691022808353E-4,5.223694558177764E-4,-1.63666735412941E-4,-0.0014029929686027267,2.3214734877304483E-4,-6.781338306609541E-4,-0.0012444855334858098,0.0010954910540021956,0.0011374492023605853,-8.063510564776758E-4,0.001320588809903711,0.0012515406512344875,-2.0744293578900397E-5,4.5263817204007254E-5,-0.001079399517038837,2.0485395604434112E-4,0.0012484717299230397,0.0021244713570922613,0.002436111157294363,4.378948360681534E-4,8.370341784029733E-4,0.00108614379617696,0.002409295256560047,4.8380153020843863E-4,7.688262849114835E-5,-4.286134693150719E-4,-0.001025534215538452,-0.0019480756503374626,-0.0024317450637075426,-7.599461823701859E-4,-5.81287119227151E-4,0.0014050914129863181,-0.001059502460217724,1.6798761498648673E-4,-0.001744753508925593,-6.582986243302003E-4,-5.9415183689755694E-5,-0.0012171271179492273,-6.919201744797949E-4,4.6162478929545614E-4,-2.445513673592359E-4,2.4393668354605325E-5,9.25286381971091E-4,0.0012852430081693456,0.0028142276326737674,4.162719026984026E-4,0.0017315541335847229,0.001344183401670307,3.772684115877685E-4,0.0016517543699592352,4.204563447274268E-5,4.1470497186916566E-4,0.0014465698623098433,-8.296892823030551E-4,-4.864238338389744E-4,-1.612653334935506E-4,-5.767907035381843E-4,8.697477945437033E-4,4.797848605448962E-4,-2.756427275016904E-4,-7.168981634701291E-4,3.256773197790608E-4,0.0013144842038551965,-4.1715711510429776E-4,-0.0016281825034335875,-7.941260191728361E-4,-4.610410348201791E-4,-0.0024554022529628128,-5.41578415626039E-4,0.0018894144159276038,-1.8017761370477575E-4,7.729720479498307E-4,-5.552576816019912E-4,1.2366985902190208E-4,-0.0010824962373590097,-9.344205900561064E-4,-1.8312932418969768E-4,-9.988983219955117E-4,6.124797218944877E-4,0.002100533398333937,-6.818557288473432E-4,0.002137427339524341,-0.002695870934985578,-5.626585795350062E-4,0.0013702438833812871,-6.486216152552515E-4,-4.672199526491264E-4,8.302384715837736E-4,-0.0015225574704042324,0.0015193063639647637,-9.151095970689008E-4]         |\n",
            "|The Formula 1 race track is set to host the next grand prix            |[4.891159737275706E-4,-0.001193580230594509,-9.367781684785667E-4,-0.0010793695902167303,1.1375969511896579E-4,-7.053737936075777E-4,-1.1839945788475839E-4,4.7834270258641074E-4,-3.9592880703922774E-4,0.001326322452061706,8.389819736799431E-4,-4.218124959152192E-4,-9.062950589901043E-5,9.326047665025624E-4,-5.529314835762812E-5,8.500937450056274E-4,-4.093974518279234E-4,7.884097350243892E-4,-3.7535123475309875E-4,8.352339112510283E-4,-3.951369791239914E-4,-0.00121206462467348,-9.421284129429194E-4,-2.1143443882465363E-4,-7.821685544008182E-4,0.001556459423025242,0.0011828060313645336,5.426776636644111E-4,-2.1464757608353262E-4,0.001249892360647209,3.56775429584862E-6,-8.494448330667283E-5,-4.4716806668374274E-6,-0.001037095646501661,0.0014358667249325663,5.678606070836799E-4,-4.992559164141615E-4,5.816307065187073E-4,9.569477276980048E-4,-2.6182245670093427E-5,0.0010119350966609393,-8.691491137950732E-4,9.656813555112522E-4,5.286933026380009E-4,-0.001274190151080903,3.455827180813584E-4,-1.1894523615612544E-4,-0.001706830565429603,7.151721963762409E-4,5.304078545628323E-4,9.644099756971829E-4,0.0013491686938020089,-0.0018404582515358925,9.01912727082769E-4,4.9698008095017736E-5,-3.723985929456022E-4,-4.398066379912456E-4,-3.1082808143562737E-4,-3.531027274827162E-4,-9.330876895950899E-5,-6.269127706117514E-4,3.442539875524946E-4,9.334157495888778E-4,-4.831064612113146E-4,-5.108468596720033E-5,3.163425329451759E-5,6.479288203991018E-4,-0.0012490384203071394,0.001131295614565412,-9.8484815357046E-4,5.00102311586185E-4,0.001746842430697547,-0.0013019330928929977,2.7660763589665294E-4,0.0013127598213031888,-7.333444971461884E-4,5.5704357995030776E-5,0.0016836180034766179,2.6040813584889594E-4,2.0876398775726557E-4,-3.8286526170041825E-4,9.514963369130985E-4,-0.0017689414606947037,-1.2040606492923365E-4,-3.9675801397404733E-4,1.8456940678232865E-4,0.0011160277645103633,-0.001231373695190996,-0.0016353356606689177,-4.933209335528469E-4,-5.292595241270545E-4,-6.247529899054724E-4,-2.0851064214689864E-5,-0.0022114068932650196,2.3183779558166862E-4,0.002073836823304494,-6.619915430847969E-4,0.001022647759075173,-1.9351229032812017E-4,-0.0024589711651464715]              |\n",
            "|Financial experts are advising on diversifying investment portfolios   |[-0.0010242781524236002,-2.890633380350967E-4,-0.0010285111299405494,-3.590876391778389E-4,0.0015616051241522655,-0.0012052563179167919,0.0017696087791894872,7.880531678286691E-4,0.0017214407174227138,7.41222562889258E-4,0.0023312680787057616,-0.0021411111811175942,0.002573902447087069,-2.3255057506806526E-4,-0.001317886175456806,6.989431858528405E-5,0.0025837410745831826,7.075110333971679E-4,2.1822362517317134E-4,-6.637037149630487E-4,1.951717228318254E-4,-0.002141907292146546,-0.0013156456407159567,-9.109914147605498E-4,1.6913401001753906E-4,7.147578677783409E-4,-0.00229096005205065,-7.206585044817377E-4,-4.474254868303736E-4,-1.1900933895958588E-4,0.0015603134088451043,2.8914914582856E-4,0.001214017414895352,7.838718399095038E-4,-0.0013067819139299293,4.531017669554179E-4,4.969240399077535E-4,-0.0011917947946737209,4.1714387528675917E-4,-3.675120945748252E-4,-8.034605416469276E-4,0.0012083425050756582,-1.840447075664997E-4,8.866855641826987E-4,-0.001648063693816463,0.001878003390932766,4.8482816297716147E-4,2.7089858728383354E-4,0.002238448816873036,-5.66851451973586E-4,5.574894700354586E-4,9.604799561202526E-5,4.1780830482215E-4,6.677149309931943E-4,-0.001224424981046468,-9.099147670591871E-4,-9.88804568502625E-4,8.04832639308491E-4,6.955601371979961E-4,0.0012932240788359195,-0.0014231682689569425,-4.109127615568771E-4,9.830131117875376E-5,0.0019857030808149525,6.651752143322179E-4,0.0016402052521395185,-7.264972276364763E-4,9.963411763844001E-4,-5.164863347696761E-4,-6.759916917265703E-4,-9.716271112362543E-5,8.041719223304729E-4,-0.001056931224108363,5.967800389043987E-4,-7.738361600786448E-4,-1.2380652090845007E-4,0.002056774275843054,0.0014266157668316737,-0.0011167605807713699,0.0011869117928047974,-0.0016930087246388816,-0.0011254691635258496,9.88671362089614E-4,-1.11465478160729E-4,-1.3048220716882497E-4,-3.9308576621503255E-4,-0.0024170152416142323,5.960228639499594E-4,-9.645187674323097E-4,-0.0011829911964014173,-3.4683862031670287E-4,0.0011677654110826552,-0.0010672265004056194,-8.183331034767131E-4,3.485687969562908E-4,-0.0010210896628753592,0.0016334272028567889,7.024883804357766E-4,-0.0012430115639290307,-0.002249112997863752]                   |\n",
            "|Stock trading has become a popular way to build wealth                 |[-0.0017340481068198901,-0.0014156000854979667,-9.570164672498191E-4,-8.784083724354526E-4,-2.3996287823787755E-4,-8.839981663706047E-4,2.8576605421091827E-4,-3.602483442851475E-4,2.901679399656132E-4,-5.284768703859299E-4,0.0011612852233936011,9.737478935026696E-5,-2.325807207463575E-4,9.886898333206773E-4,7.968389296105929E-5,-5.282025085762143E-4,-4.399808481788828E-4,-2.40541020632788E-4,6.759550326803167E-4,-4.388281709647604E-4,0.0018709105705576282,0.0012129659797730189,-0.0011169928153062106,-4.656047427228518E-5,9.095148468207168E-4,-0.0022956456190773417,-3.413465405433921E-4,-0.0013106190890539438,-0.0017229278704949786,-4.4846644492021624E-4,-5.953473155386746E-4,3.487837966531515E-5,4.6900561678090265E-4,-0.002153669696001868,5.4175782549594124E-5,3.4298487922309766E-4,-2.392184521470751E-4,7.153434146727834E-4,-0.0018060888874710404,-0.0025763407091809703,-4.264925503645957E-4,-0.001392321810791535,-5.65839501047906E-4,0.003518727125733026,0.0025194258196279407,-0.0011007070050774407,-0.0021010716944666846,-0.002242116080846504,7.430961954274347E-4,-3.1831823954624785E-5,-5.652856031831886E-4,0.0023371827056897537,-0.0016533916142569588,0.0021183798297507955,-6.160202236579997E-4,7.916155071663005E-4,-4.223645248982523E-4,0.0018347346038873572,0.0012321905731888752,-5.8432749938219786E-5,-0.0016470699088781007,7.71104491182736E-4,-6.857079071258859E-4,0.00111243428961773,3.9156523416750133E-4,0.001039219504621412,8.987114498657839E-4,-0.0016373498115821608,-0.0025194430366225007,-4.354703040527446E-5,4.88289024880422E-4,0.002804235156093325,5.957592230905512E-4,5.571478478876607E-5,-9.560071464095796E-4,0.0011053543171978422,-7.379343650037688E-4,-4.99470458765115E-5,8.499756222590804E-4,-9.011830469327313E-4,-0.0018670560654884736,-6.590750246167382E-4,2.6017274441463603E-4,-5.806130845615241E-4,7.322867313632742E-4,3.715306333365983E-5,1.8956022852632614E-4,7.011533234617673E-4,-9.957330746276835E-4,7.515781669228869E-4,-0.001288677316292056,0.0018450360013438122,-5.070997618271836E-4,2.950891586286681E-4,-0.0011429848631710879,-9.265373519156128E-4,2.339086162724665E-4,0.0013641571401551897,-1.3146702466266494E-4,-9.549891443124839E-4]          |\n",
            "|Stock trading has become a popular way to build wealth                 |[-0.0017340481068198901,-0.0014156000854979667,-9.570164672498191E-4,-8.784083724354526E-4,-2.3996287823787755E-4,-8.839981663706047E-4,2.8576605421091827E-4,-3.602483442851475E-4,2.901679399656132E-4,-5.284768703859299E-4,0.0011612852233936011,9.737478935026696E-5,-2.325807207463575E-4,9.886898333206773E-4,7.968389296105929E-5,-5.282025085762143E-4,-4.399808481788828E-4,-2.40541020632788E-4,6.759550326803167E-4,-4.388281709647604E-4,0.0018709105705576282,0.0012129659797730189,-0.0011169928153062106,-4.656047427228518E-5,9.095148468207168E-4,-0.0022956456190773417,-3.413465405433921E-4,-0.0013106190890539438,-0.0017229278704949786,-4.4846644492021624E-4,-5.953473155386746E-4,3.487837966531515E-5,4.6900561678090265E-4,-0.002153669696001868,5.4175782549594124E-5,3.4298487922309766E-4,-2.392184521470751E-4,7.153434146727834E-4,-0.0018060888874710404,-0.0025763407091809703,-4.264925503645957E-4,-0.001392321810791535,-5.65839501047906E-4,0.003518727125733026,0.0025194258196279407,-0.0011007070050774407,-0.0021010716944666846,-0.002242116080846504,7.430961954274347E-4,-3.1831823954624785E-5,-5.652856031831886E-4,0.0023371827056897537,-0.0016533916142569588,0.0021183798297507955,-6.160202236579997E-4,7.916155071663005E-4,-4.223645248982523E-4,0.0018347346038873572,0.0012321905731888752,-5.8432749938219786E-5,-0.0016470699088781007,7.71104491182736E-4,-6.857079071258859E-4,0.00111243428961773,3.9156523416750133E-4,0.001039219504621412,8.987114498657839E-4,-0.0016373498115821608,-0.0025194430366225007,-4.354703040527446E-5,4.88289024880422E-4,0.002804235156093325,5.957592230905512E-4,5.571478478876607E-5,-9.560071464095796E-4,0.0011053543171978422,-7.379343650037688E-4,-4.99470458765115E-5,8.499756222590804E-4,-9.011830469327313E-4,-0.0018670560654884736,-6.590750246167382E-4,2.6017274441463603E-4,-5.806130845615241E-4,7.322867313632742E-4,3.715306333365983E-5,1.8956022852632614E-4,7.011533234617673E-4,-9.957330746276835E-4,7.515781669228869E-4,-0.001288677316292056,0.0018450360013438122,-5.070997618271836E-4,2.950891586286681E-4,-0.0011429848631710879,-9.265373519156128E-4,2.339086162724665E-4,0.0013641571401551897,-1.3146702466266494E-4,-9.549891443124839E-4]          |\n",
            "+-----------------------------------------------------------------------+----------------------------------------------------------------------------------------------------------------------------------------------------------------------------------------------------------------------------------------------------------------------------------------------------------------------------------------------------------------------------------------------------------------------------------------------------------------------------------------------------------------------------------------------------------------------------------------------------------------------------------------------------------------------------------------------------------------------------------------------------------------------------------------------------------------------------------------------------------------------------------------------------------------------------------------------------------------------------------------------------------------------------------------------------------------------------------------------------------------------------------------------------------------------------------------------------------------------------------------------------------------------------------------------------------------------------------------------------------------------------------------------------------------------------------------------------------------------------------------------------------------------------------------------------------------------------------------------------------------------------------------------------------------------------------------------------------------------------------------------------------------------------------------------------------------------------------------------------------------------------------------------------------------------------------------------------------------------------------------------------------------------------------------------------------------------------------------------------------------------------------------------------------------------------------------------------------------------------------------------------------------------------------------+\n",
            "only showing top 20 rows\n",
            "\n"
          ]
        }
      ]
    },
    {
      "cell_type": "code",
      "metadata": {
        "colab": {
          "base_uri": "https://localhost:8080/"
        },
        "id": "122f9a11",
        "outputId": "3f35c719-b7a2-4c42-d213-57327637e689"
      },
      "source": [
        "train_data_w2v, test_data_w2v = df.randomSplit([0.8, 0.2], seed=42)\n",
        "\n",
        "# Train Model\n",
        "lr_w2v = LogisticRegression(featuresCol=\"featuresW2Vector\", labelCol=\"label\")\n",
        "lr_w2v_model = lr_w2v.fit(train_data_w2v)\n",
        "\n",
        "# Predictions\n",
        "predictions_w2v = lr_w2v_model.transform(test_data_w2v)\n",
        "predictions_w2v.select(\"text\", \"category\", \"prediction\").show(truncate=False)\n",
        "\n",
        "# Evaluate Model Accuracy\n",
        "accuracy_w2v = evaluator.evaluate(predictions_w2v)\n",
        "print(f\"Word2Vec Model Accuracy: {accuracy_w2v:.2f}\")"
      ],
      "execution_count": 38,
      "outputs": [
        {
          "output_type": "stream",
          "name": "stdout",
          "text": [
            "+--------------------------------------------------------------------+----------+----------+\n",
            "|text                                                                |category  |prediction|\n",
            "+--------------------------------------------------------------------+----------+----------+\n",
            "|Machine learning has revolutionized the way data is processed       |Technology|0.0       |\n",
            "|The president addressed the nation in a live broadcast              |Politics  |0.0       |\n",
            "|Machine learning has revolutionized the way data is processed       |Technology|0.0       |\n",
            "|Political campaigns are gearing up for the upcoming elections       |Politics  |1.0       |\n",
            "|The Formula 1 race track is set to host the next grand prix         |Sports    |3.0       |\n",
            "|Financial experts are advising on diversifying investment portfolios|Finance   |3.0       |\n",
            "+--------------------------------------------------------------------+----------+----------+\n",
            "\n",
            "Word2Vec Model Accuracy: 0.67\n"
          ]
        }
      ]
    }
  ]
}